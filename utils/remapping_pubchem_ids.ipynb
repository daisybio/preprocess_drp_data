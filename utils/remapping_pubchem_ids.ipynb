{
 "cells": [
  {
   "cell_type": "markdown",
   "source": [
    "We have the following problem: drug names are not unique in the respective dataframes. E.g., sometimes, they are using different synonyms, sometimes, there are typos, sometimes, there is random capitalization. The first resort was retrieving the PubChem IDs. However, this opened up new problems. PubChem IDs are not unique, as it turns out. This notebook tries to see how large the problem is."
   ],
   "metadata": {
    "collapsed": false
   },
   "id": "56ceb2457cd52c80"
  },
  {
   "cell_type": "code",
   "execution_count": 1,
   "outputs": [],
   "source": [
    "import os\n",
    "import pandas as pd\n",
    "import pubchempy as pcp"
   ],
   "metadata": {
    "collapsed": false,
    "ExecuteTime": {
     "end_time": "2025-03-06T13:36:09.534867Z",
     "start_time": "2025-03-06T13:36:09.522534Z"
    }
   },
   "id": "7dfebbcc1436ce8c"
  },
  {
   "cell_type": "code",
   "execution_count": 3,
   "outputs": [
    {
     "name": "stderr",
     "output_type": "stream",
     "text": [
      "/var/folders/3x/f8j9tddj7flfxt9zx1gkws1m0000gn/T/ipykernel_32696/3270284785.py:10: DtypeWarning: Columns (2) have mixed types. Specify dtype option on import or set low_memory=False.\n",
      "  df = pd.read_csv(file)\n",
      "/var/folders/3x/f8j9tddj7flfxt9zx1gkws1m0000gn/T/ipykernel_32696/3270284785.py:10: DtypeWarning: Columns (2) have mixed types. Specify dtype option on import or set low_memory=False.\n",
      "  df = pd.read_csv(file)\n",
      "/var/folders/3x/f8j9tddj7flfxt9zx1gkws1m0000gn/T/ipykernel_32696/3270284785.py:10: DtypeWarning: Columns (2,25) have mixed types. Specify dtype option on import or set low_memory=False.\n",
      "  df = pd.read_csv(file)\n"
     ]
    },
    {
     "data": {
      "text/plain": "       pubchem_id          drug_name dataset\n0        11656518             RAF265    CCLE\n1        24180719           PLX-4720    CCLE\n2        10127622        Selumetinib    CCLE\n3        10302451        Saracatinib    CCLE\n4        10461815         PHA-665752    CCLE\n...           ...                ...     ...\n229715       3899        Leflunomide   GDSC2\n231502        864  alpha-lipoic acid   GDSC2\n232237     124886        glutathione   GDSC2\n232969      12035  N-acetyl cysteine   GDSC2\n232970   54670067      Ascorbic acid   GDSC2\n\n[1618 rows x 3 columns]",
      "text/html": "<div>\n<style scoped>\n    .dataframe tbody tr th:only-of-type {\n        vertical-align: middle;\n    }\n\n    .dataframe tbody tr th {\n        vertical-align: top;\n    }\n\n    .dataframe thead th {\n        text-align: right;\n    }\n</style>\n<table border=\"1\" class=\"dataframe\">\n  <thead>\n    <tr style=\"text-align: right;\">\n      <th></th>\n      <th>pubchem_id</th>\n      <th>drug_name</th>\n      <th>dataset</th>\n    </tr>\n  </thead>\n  <tbody>\n    <tr>\n      <th>0</th>\n      <td>11656518</td>\n      <td>RAF265</td>\n      <td>CCLE</td>\n    </tr>\n    <tr>\n      <th>1</th>\n      <td>24180719</td>\n      <td>PLX-4720</td>\n      <td>CCLE</td>\n    </tr>\n    <tr>\n      <th>2</th>\n      <td>10127622</td>\n      <td>Selumetinib</td>\n      <td>CCLE</td>\n    </tr>\n    <tr>\n      <th>3</th>\n      <td>10302451</td>\n      <td>Saracatinib</td>\n      <td>CCLE</td>\n    </tr>\n    <tr>\n      <th>4</th>\n      <td>10461815</td>\n      <td>PHA-665752</td>\n      <td>CCLE</td>\n    </tr>\n    <tr>\n      <th>...</th>\n      <td>...</td>\n      <td>...</td>\n      <td>...</td>\n    </tr>\n    <tr>\n      <th>229715</th>\n      <td>3899</td>\n      <td>Leflunomide</td>\n      <td>GDSC2</td>\n    </tr>\n    <tr>\n      <th>231502</th>\n      <td>864</td>\n      <td>alpha-lipoic acid</td>\n      <td>GDSC2</td>\n    </tr>\n    <tr>\n      <th>232237</th>\n      <td>124886</td>\n      <td>glutathione</td>\n      <td>GDSC2</td>\n    </tr>\n    <tr>\n      <th>232969</th>\n      <td>12035</td>\n      <td>N-acetyl cysteine</td>\n      <td>GDSC2</td>\n    </tr>\n    <tr>\n      <th>232970</th>\n      <td>54670067</td>\n      <td>Ascorbic acid</td>\n      <td>GDSC2</td>\n    </tr>\n  </tbody>\n</table>\n<p>1618 rows × 3 columns</p>\n</div>"
     },
     "execution_count": 3,
     "metadata": {},
     "output_type": "execute_result"
    }
   ],
   "source": [
    "all_datasets = {\n",
    "    \"CCLE\": \"/Users/judithbernett/PycharmProjects/drp_model_suite/data/CCLE/CCLE.csv\",\n",
    "    \"CTRPv1\": \"/Users/judithbernett/PycharmProjects/drp_model_suite/data/CTRPv1/CTRPv1.csv\",\n",
    "    \"CTRPv2\": \"/Users/judithbernett/PycharmProjects/drp_model_suite/data/CTRPv2/CTRPv2.csv\",\n",
    "    \"GDSC1\": \"/Users/judithbernett/PycharmProjects/drp_model_suite/data/GDSC1/GDSC1.csv\",\n",
    "    \"GDSC2\": \"/Users/judithbernett/PycharmProjects/drp_model_suite/data/GDSC2/GDSC2.csv\",\n",
    "}\n",
    "all_drug_names = pd.DataFrame(columns=[\"pubchem_id\",\"drug_name\", \"dataset\"])\n",
    "for dataset, file in all_datasets.items():\n",
    "    df = pd.read_csv(file)\n",
    "    df = df[[\"pubchem_id\", \"drug_name\"]].drop_duplicates()\n",
    "    df[\"dataset\"] = dataset\n",
    "    all_drug_names = pd.concat([all_drug_names, df])\n",
    "all_drug_names"
   ],
   "metadata": {
    "collapsed": false,
    "ExecuteTime": {
     "end_time": "2025-03-06T13:37:32.403118Z",
     "start_time": "2025-03-06T13:37:27.326455Z"
    }
   },
   "id": "df05316eca512646"
  },
  {
   "cell_type": "markdown",
   "source": [
    "We will now iterate through all drug names. For each drug name, we will retrieve the PubChem ID, the synonyms, the IUPAC name, the canonical smiles, the cactvs fingerprints, the fingerprint."
   ],
   "metadata": {
    "collapsed": false
   },
   "id": "6e2772a0a7f44ea4"
  },
  {
   "cell_type": "code",
   "execution_count": 3,
   "outputs": [
    {
     "name": "stdout",
     "output_type": "stream",
     "text": [
      "Processing 0 of 1253\n",
      "Error for 1807: No compound found for 1807\n",
      "Error for PARP_9495: No compound found for PARP_9495\n",
      "Processing 10 of 1253\n",
      "Error for TL-2-105: No compound found for TL-2-105\n",
      "Processing 20 of 1253\n",
      "Error for 615590: No compound found for 615590\n",
      "Error for XMD15-27: No compound found for XMD15-27\n",
      "Error for N24798-49-A1: No compound found for N24798-49-A1\n",
      "Processing 30 of 1253\n",
      "Error for 968: No compound found for 968\n",
      "Error for Bleomycin (50 uM): No compound found for Bleomycin (50 uM)\n",
      "Error for carboplatin:UNC0638 (2:1 mol/mol): No compound found for carboplatin:UNC0638 (2:1 mol/mol)\n",
      "Error for Compound 44: No compound found for Compound 44\n",
      "Processing 40 of 1253\n",
      "Error for QW-BI-011: No compound found for QW-BI-011\n",
      "Error for 2-bromopyruvate: No compound found for 2-bromopyruvate\n",
      "Error for BRD4372: No compound found for BRD4372\n",
      "Processing 50 of 1253\n",
      "Error for BRD5802: No compound found for BRD5802\n",
      "Error for FY026: No compound found for FY026\n",
      "Error for BRD4470: No compound found for BRD4470\n",
      "Error for BAY-HDAC11_4: No compound found for BAY-HDAC11_4\n",
      "Error for BRD-A02303741:navitoclax (2:1 mol/mol): No compound found for BRD-A02303741:navitoclax (2:1 mol/mol)\n",
      "Processing 60 of 1253\n",
      "Error for Nutlin-3a (-): No compound found for Nutlin-3a (-)\n",
      "Error for FY012: No compound found for FY012\n",
      "Error for 2,4-dideoxy-DC-45-A2: No compound found for 2,4-dideoxy-DC-45-A2\n",
      "Processing 70 of 1253\n",
      "Error for N23918-95-7: No compound found for N23918-95-7\n",
      "Error for ICL1100013: No compound found for ICL1100013\n",
      "Error for THR-102: No compound found for THR-102\n",
      "Error for alisertib:navitoclax (2:1 mol/mol): No compound found for alisertib:navitoclax (2:1 mol/mol)\n",
      "Error for BRD-K29313308: No compound found for BRD-K29313308\n",
      "Processing 80 of 1253\n",
      "Error for DC-45-A2: No compound found for DC-45-A2\n",
      "Processing 90 of 1253\n",
      "Error for FGFR_0939: No compound found for FGFR_0939\n",
      "Error for tipifarnib-P1: No compound found for tipifarnib-P1\n",
      "Error for BAY ACCi: No compound found for BAY ACCi\n",
      "Error for BRD6150: No compound found for BRD6150\n",
      "Processing 100 of 1253\n",
      "Error for BAY AKT1: No compound found for BAY AKT1\n",
      "Processing 110 of 1253\n",
      "Error for BDILV000379a: No compound found for BDILV000379a\n",
      "Error for selumetinib:piperlongumine (8:1 mol/mol): No compound found for selumetinib:piperlongumine (8:1 mol/mol)\n",
      "Processing 120 of 1253\n",
      "Error for 743380: No compound found for 743380\n",
      "Error for selumetinib:navitoclax (8:1 mol/mol): No compound found for selumetinib:navitoclax (8:1 mol/mol)\n",
      "Error for IAP_5620: No compound found for IAP_5620\n",
      "Processing 130 of 1253\n",
      "Error for JQ-1:UNC0638 (2:1 mol/mol): No compound found for JQ-1:UNC0638 (2:1 mol/mol)\n",
      "Processing 140 of 1253\n",
      "Collision for pevonedistat: ['MLN-4924']\n",
      "Error for ascorbate (vitamin C): No compound found for ascorbate (vitamin C)\n",
      "Processing 150 of 1253\n",
      "Error for BRD55319: No compound found for BRD55319\n",
      "Processing 160 of 1253\n",
      "Error for LMB_AB1: No compound found for LMB_AB1\n",
      "Collision for selumetinib: ['Selumetinib']\n",
      "Error for BRD-K79669418: No compound found for BRD-K79669418\n",
      "Processing 170 of 1253\n",
      "Error for 5-benzyl-9-tert-butyl-paullone: No compound found for 5-benzyl-9-tert-butyl-paullone\n",
      "Processing 180 of 1253\n",
      "Error for BRD-K64610608: No compound found for BRD-K64610608\n",
      "Error for BRD-K07442505: No compound found for BRD-K07442505\n",
      "Error for tanespimycin:bortezomib (250:1 mol/mol): No compound found for tanespimycin:bortezomib (250:1 mol/mol)\n",
      "Error for KIN001-260: No compound found for KIN001-260\n",
      "Processing 190 of 1253\n",
      "Processing 200 of 1253\n",
      "Error for selumetinib:tretinoin (2:1 mol/mol): No compound found for selumetinib:tretinoin (2:1 mol/mol)\n",
      "Processing 210 of 1253\n",
      "Error for 776928: No compound found for 776928\n",
      "Error for Compound 110: No compound found for Compound 110\n",
      "Error for Venotoclax: No compound found for Venotoclax\n",
      "Processing 220 of 1253\n",
      "Error for BRD-K55473186: No compound found for BRD-K55473186\n",
      "Error for BRD-K27188169:navitoclax (2:1 mol/mol): No compound found for BRD-K27188169:navitoclax (2:1 mol/mol)\n",
      "Error for QL-XII-61: No compound found for QL-XII-61\n",
      "Processing 230 of 1253\n",
      "Collision for Pevonedistat: ['MLN-4924', 'pevonedistat']\n",
      "Error for ERK_2440: No compound found for ERK_2440\n",
      "Processing 240 of 1253\n",
      "Error for selumetinib:GDC-0941 (4:1 mol/mol): No compound found for selumetinib:GDC-0941 (4:1 mol/mol)\n",
      "Processing 250 of 1253\n",
      "Collision for Bosutinib: ['bosutinib']\n",
      "Error for BRD-K58730230: No compound found for BRD-K58730230\n",
      "Error for selumetinib:MK-2206 (8:1 mol/mol): No compound found for selumetinib:MK-2206 (8:1 mol/mol)\n",
      "Processing 260 of 1253\n",
      "Collision for YK 4-279: ['YK-4-279']\n",
      "Error for KRAS (G12C) Inhibitor-12: No compound found for KRAS (G12C) Inhibitor-12\n",
      "Error for doxorubicin:navitoclax (2:1 mol/mol): No compound found for doxorubicin:navitoclax (2:1 mol/mol)\n",
      "Processing 270 of 1253\n",
      "Error for IGF1R_3801: No compound found for IGF1R_3801\n",
      "Collision for Tanespimycin: ['17-AAG']\n",
      "Error for Dyrk1b_0191: No compound found for Dyrk1b_0191\n",
      "Processing 280 of 1253\n",
      "Error for 993-D2: No compound found for 993-D2\n",
      "Processing 290 of 1253\n",
      "Error for 729189: No compound found for 729189\n",
      "Error for BRD6430: No compound found for BRD6430\n",
      "Processing 300 of 1253\n",
      "Error for PARP_0108: No compound found for PARP_0108\n",
      "Processing 310 of 1253\n",
      "Error for LMB_AB3: No compound found for LMB_AB3\n",
      "Collision for Saracatinib: ['AZD0530']\n",
      "Error for SR-II-138A: No compound found for SR-II-138A\n",
      "Error for BRD-K88742110: No compound found for BRD-K88742110\n",
      "Processing 320 of 1253\n",
      "Error for THR-101: No compound found for THR-101\n",
      "Processing 330 of 1253\n",
      "Error for TAF1_5496: No compound found for TAF1_5496\n",
      "Processing 340 of 1253\n",
      "Error for GSK2276186C: No compound found for GSK2276186C\n",
      "Error for MPS-1-IN-1: No compound found for MPS-1-IN-1\n",
      "Processing 350 of 1253\n",
      "Error for MCT1_6447: No compound found for MCT1_6447\n",
      "Error for BRD-K99584050: No compound found for BRD-K99584050\n",
      "Collision for Sunitinib: ['sunitinib']\n",
      "Processing 360 of 1253\n",
      "Error for VTP-B: No compound found for VTP-B\n",
      "Error for BDP-00009066: No compound found for BDP-00009066\n",
      "Error for 765771: No compound found for 765771\n",
      "Processing 370 of 1253\n",
      "Error for BRD9571: No compound found for BRD9571\n",
      "Error for 741909: No compound found for 741909\n",
      "Processing 380 of 1253\n",
      "Error for BRD9786: No compound found for BRD9786\n",
      "Error for BRD8958: No compound found for BRD8958\n",
      "Processing 390 of 1253\n",
      "Error for BAY-MPS-combo-1 (paclitaxel 5 uM): No compound found for BAY-MPS-combo-1 (paclitaxel 5 uM)\n",
      "Collision for 5-Fluorouracil: ['fluorouracil']\n",
      "Processing 400 of 1253\n",
      "Error for Compound 2: No compound found for Compound 2\n",
      "Error for VTP-A: No compound found for VTP-A\n",
      "Processing 410 of 1253\n",
      "Error for FY069: No compound found for FY069\n",
      "Collision for PFI-3: ['PFI3']\n",
      "Error for selumetinib:vorinostat (8:1 mol/mol): No compound found for selumetinib:vorinostat (8:1 mol/mol)\n",
      "Error for piperlongumine:MST-312 (1:1 mol/mol): No compound found for piperlongumine:MST-312 (1:1 mol/mol)\n",
      "Processing 420 of 1253\n",
      "Collision for Etoposide: ['etoposide']\n",
      "Collision for tretinoin: ['Tretinoin']\n",
      "Processing 430 of 1253\n",
      "Error for JW-7-52-1: No compound found for JW-7-52-1\n",
      "Error for QL-VIII-58: No compound found for QL-VIII-58\n",
      "Collision for Veliparib: ['veliparib']\n",
      "Processing 440 of 1253\n",
      "Error for HG-6-71-01: No compound found for HG-6-71-01\n",
      "Processing 450 of 1253\n",
      "Error for IGFR_3801: No compound found for IGFR_3801\n",
      "Error for 2-deoxyglucose: No compound found for 2-deoxyglucose\n",
      "Error for BRD2296: No compound found for BRD2296\n",
      "Error for SNX-2112:bortezomib (250:1 mol/mol): No compound found for SNX-2112:bortezomib (250:1 mol/mol)\n",
      "Error for vorinostat:carboplatin (1:1 mol/mol): No compound found for vorinostat:carboplatin (1:1 mol/mol)\n",
      "Error for CID 2853753: No compound found for CID 2853753\n",
      "Error for BRD2572: No compound found for BRD2572\n",
      "Processing 460 of 1253\n",
      "Collision for neuronal differentiation inducer III: ['CHEMBL1222381']\n",
      "Error for 50869: No compound found for 50869\n",
      "Processing 470 of 1253\n",
      "Error for compound 1B: No compound found for compound 1B\n",
      "Error for FGFR_3831: No compound found for FGFR_3831\n",
      "Error for CRT0160829: No compound found for CRT0160829\n",
      "Error for selumetinib:JQ-1 (4:1 mol/mol): No compound found for selumetinib:JQ-1 (4:1 mol/mol)\n",
      "Error for N22899-6-C1: No compound found for N22899-6-C1\n",
      "Processing 480 of 1253\n",
      "Collision for Daporinad: ['FK866']\n",
      "Processing 490 of 1253\n",
      "Collision for VX-680: ['tozasertib']\n",
      "Error for BRD9876:MK-1775 (4:1 mol/mol): No compound found for BRD9876:MK-1775 (4:1 mol/mol)\n",
      "Collision for TGX-221: ['TGX221']\n",
      "Error for BRD8418: No compound found for BRD8418\n",
      "Processing 500 of 1253\n",
      "Error for CT7033-2: No compound found for CT7033-2\n",
      "Collision for BYL-719: ['Alpelisib']\n",
      "Collision for dabrafenib: ['Dabrafenib']\n",
      "Collision for Ibrutinib: ['ibrutinib']\n",
      "Processing 510 of 1253\n",
      "Error for 630600: No compound found for 630600\n",
      "Error for GSK626616AC: No compound found for GSK626616AC\n",
      "Processing 520 of 1253\n",
      "Error for Eg5_9814: No compound found for Eg5_9814\n",
      "Collision for Piperlongumine: ['piperlongumine']\n",
      "Collision for TW 37: ['TW-37']\n",
      "Collision for AZD6244: ['Selumetinib', 'selumetinib']\n",
      "Error for PLK_6522: No compound found for PLK_6522\n",
      "Processing 530 of 1253\n",
      "Error for 1S,3R-RSL-3: No compound found for 1S,3R-RSL-3\n",
      "Error for BRD-K16130065: No compound found for BRD-K16130065\n",
      "Collision for vismodegib: ['Vismodegib']\n",
      "Processing 540 of 1253\n",
      "Error for BRD2762: No compound found for BRD2762\n",
      "Collision for XAV-939: ['XAV939']\n",
      "Processing 550 of 1253\n",
      "Collision for I-BET-762: ['GSK525762A']\n",
      "Error for decitabine:carboplatin (1:1 mol/mol): No compound found for decitabine:carboplatin (1:1 mol/mol)\n",
      "Collision for Bexarotene: ['bexarotene']\n",
      "Processing 560 of 1253\n",
      "Error for ceranib-2: No compound found for ceranib-2\n",
      "Error for 150412: No compound found for 150412\n",
      "Error for navitoclax:birinapant (1:1 mol/mol): No compound found for navitoclax:birinapant (1:1 mol/mol)\n",
      "Collision for paclitaxel: ['Paclitaxel']\n",
      "Error for CDK9_5038: No compound found for CDK9_5038\n",
      "Processing 570 of 1253\n",
      "Error for BRD9658: No compound found for BRD9658\n",
      "Error for FS106: No compound found for FS106\n",
      "Error for BRD0713: No compound found for BRD0713\n",
      "Processing 580 of 1253\n",
      "Error for AZD7969: No compound found for AZD7969\n",
      "Error for KIN001-236: No compound found for KIN001-236\n",
      "Processing 590 of 1253\n",
      "Error for T-5345967: No compound found for T-5345967\n",
      "Error for UNC0638:navitoclax (1:1 mol/mol): No compound found for UNC0638:navitoclax (1:1 mol/mol)\n",
      "Error for TL-1-85: No compound found for TL-1-85\n",
      "Error for ISOX: No compound found for ISOX\n",
      "Error for BDF00022089a: No compound found for BDF00022089a\n",
      "Processing 600 of 1253\n",
      "Error for BRD6825: No compound found for BRD6825\n",
      "Error for BAY-HDAC11_1: No compound found for BAY-HDAC11_1\n",
      "Collision for GW843682X: ['GW-843682X']\n",
      "Processing 610 of 1253\n",
      "Error for Genentech Cpd 10: No compound found for Genentech Cpd 10\n",
      "Processing 620 of 1253\n",
      "Error for FS112: No compound found for FS112\n",
      "Error for Bleomycin (10 uM): No compound found for Bleomycin (10 uM)\n",
      "Error for THZ-2-49: No compound found for THZ-2-49\n",
      "Collision for alvocidib: ['Flavopiridol']\n",
      "Processing 630 of 1253\n",
      "Error for BRD-A02303741:carboplatin (1:1 mol/mol): No compound found for BRD-A02303741:carboplatin (1:1 mol/mol)\n",
      "Error for HKMTI-1-005: No compound found for HKMTI-1-005\n",
      "Processing 640 of 1253\n",
      "Error for tipifarnib-P2: No compound found for tipifarnib-P2\n",
      "Processing 650 of 1253\n",
      "Error for 4-methylfasudil: No compound found for 4-methylfasudil\n",
      "Error for N27922-53-1: No compound found for N27922-53-1\n",
      "Collision for Axitinib: ['axitinib']\n",
      "Processing 660 of 1253\n",
      "Collision for NVP-AUY922: ['Luminespib']\n",
      "Collision for LBH-589: ['Panobinostat']\n",
      "Processing 670 of 1253\n",
      "Collision for quizartinib: ['Quizartinib']\n",
      "Collision for masitinib: ['Masitinib']\n",
      "Processing 680 of 1253\n",
      "Error for Compound 11e: No compound found for Compound 11e\n",
      "Error for BRD-K03536150: No compound found for BRD-K03536150\n",
      "Error for 1818: No compound found for 1818\n",
      "Collision for serdemetan: ['Serdemetan']\n",
      "Processing 690 of 1253\n",
      "Collision for nutlin-3: ['Nutlin-3']\n",
      "Error for FMK-PA: No compound found for FMK-PA\n",
      "Collision for Lenalidomide: ['lenalidomide']\n",
      "Processing 700 of 1253\n",
      "Error for BRD8097: No compound found for BRD8097\n",
      "Error for PI3Ka_4409: No compound found for PI3Ka_4409\n",
      "Processing 710 of 1253\n",
      "Error for CRT0105446: No compound found for CRT0105446\n",
      "Collision for Parthenolide: ['parthenolide']\n",
      "Error for 16-beta-bromoandrosterone: No compound found for 16-beta-bromoandrosterone\n",
      "Error for salermide:PLX-4032 (12:1 mol/mol): No compound found for salermide:PLX-4032 (12:1 mol/mol)\n",
      "Processing 720 of 1253\n",
      "Collision for GDC-0941: ['Pictilisib']\n",
      "Error for GSK2256098C: No compound found for GSK2256098C\n",
      "Error for THZ-1-87: No compound found for THZ-1-87\n",
      "Collision for temozolomide: ['Temozolomide']\n",
      "Error for IAP_7638: No compound found for IAP_7638\n",
      "Processing 730 of 1253\n",
      "Error for navitoclax:pluripotin (1:1 mol/mol): No compound found for navitoclax:pluripotin (1:1 mol/mol)\n",
      "Collision for afatinib: ['Afatinib']\n",
      "Error for CDK9_5576: No compound found for CDK9_5576\n",
      "Processing 740 of 1253\n",
      "Error for navitoclax:MST-312 (1:1 mol/mol): No compound found for navitoclax:MST-312 (1:1 mol/mol)\n",
      "Collision for Mitomycin-C: ['mitomycin']\n",
      "Error for 667880: No compound found for 667880\n",
      "Collision for 5-azacytidine: ['azacitidine']\n",
      "Collision for docetaxel: ['Docetaxel']\n",
      "Processing 750 of 1253\n",
      "Collision for Selisistat: ['EX-527']\n",
      "Error for selumetinib:PLX-4032 (8:1 mol/mol): No compound found for selumetinib:PLX-4032 (8:1 mol/mol)\n",
      "Error for YL54: No compound found for YL54\n",
      "Collision for Fedratinib: ['TG-101348']\n",
      "Collision for cabozantinib: ['Cabozantinib']\n",
      "Processing 760 of 1253\n",
      "Error for N30652-18-1: No compound found for N30652-18-1\n",
      "Error for PP-30: No compound found for PP-30\n",
      "Error for PARP_9482: No compound found for PARP_9482\n",
      "Processing 770 of 1253\n",
      "Error for LMB_AB2: No compound found for LMB_AB2\n",
      "Error for TTNBP: No compound found for TTNBP\n",
      "Error for eEF2K Inhibitor, A-484954: No compound found for eEF2K Inhibitor, A-484954\n",
      "Error for BRD2649: No compound found for BRD2649\n",
      "Collision for PD-0332991: ['Palbociclib']\n",
      "Processing 780 of 1253\n",
      "Error for decitabine:navitoclax (2:1 mol/mol): No compound found for decitabine:navitoclax (2:1 mol/mol)\n",
      "Error for GSK2830371A: No compound found for GSK2830371A\n",
      "Collision for crizotinib: ['Crizotinib']\n",
      "Processing 790 of 1253\n",
      "Error for m-3M3-FBS: No compound found for m-3M3-FBS\n",
      "Error for ZL109: No compound found for ZL109\n",
      "Processing 800 of 1253\n",
      "Error for BRD-K70511574: No compound found for BRD-K70511574\n",
      "Collision for Trametinib: ['trametinib']\n",
      "Error for iso-DC-45-A2: No compound found for iso-DC-45-A2\n",
      "Collision for I-BET-151: ['I-BET151']\n",
      "Collision for Teniposide: ['teniposide']\n",
      "Error for (-)-gallocatechin-3-monogallate: No compound found for (-)-gallocatechin-3-monogallate\n",
      "Processing 810 of 1253\n",
      "Processing 820 of 1253\n",
      "Error for N25720-51-A1: No compound found for N25720-51-A1\n",
      "Error for KIN001-042: No compound found for KIN001-042\n",
      "Error for tretinoin:carboplatin (2:1 mol/mol): No compound found for tretinoin:carboplatin (2:1 mol/mol)\n",
      "Error for BRD-K35604418: No compound found for BRD-K35604418\n",
      "Collision for NSC19630: ['MIRA-1']\n",
      "Collision for JQ12: ['Merck60']\n",
      "Processing 830 of 1253\n",
      "Collision for PF-2341066: ['Crizotinib', 'crizotinib']\n",
      "Collision for rucaparib: ['Rucaparib']\n",
      "Error for 965-D2: No compound found for 965-D2\n",
      "Collision for AZD-7545: ['AZD7545']\n",
      "Processing 840 of 1253\n",
      "Error for rTRAIL: No compound found for rTRAIL\n",
      "Error for BDOCA000347a: No compound found for BDOCA000347a\n",
      "Error for erastin-A8: No compound found for erastin-A8\n",
      "Error for JAK1_3715: No compound found for JAK1_3715\n",
      "Processing 850 of 1253\n",
      "Error for selumetinib:BRD-A02303741 (4:1 mol/mol): No compound found for selumetinib:BRD-A02303741 (4:1 mol/mol)\n",
      "Error for navitoclax:sorafenib (1:1 mol/mol): No compound found for navitoclax:sorafenib (1:1 mol/mol)\n",
      "Error for JQ-1:MK-0752 (1:1 mol/mol): No compound found for JQ-1:MK-0752 (1:1 mol/mol)\n",
      "Collision for topotecan: ['Topotecan']\n",
      "Processing 860 of 1253\n",
      "Collision for tubastatin A: ['Tubastatin A']\n",
      "Error for ISOX:bortezomib (250:1 mol/mol): No compound found for ISOX:bortezomib (250:1 mol/mol)\n",
      "Collision for dinaciclib: ['Dinaciclib']\n",
      "Collision for sirolimus: ['Rapamycin']\n",
      "Collision for PD0325901: ['PD-0325901']\n",
      "Processing 870 of 1253\n",
      "Collision for Bortezomib: ['bortezomib']\n",
      "Error for 123829: No compound found for 123829\n",
      "Error for BRD1812: No compound found for BRD1812\n",
      "Error for FEN1_3940: No compound found for FEN1_3940\n",
      "Collision for alisertib: ['Alisertib']\n",
      "Processing 880 of 1253\n",
      "Collision for JQ1: ['JQ-1']\n",
      "Error for sirolimus:bortezomib (250:1 mol/mol): No compound found for sirolimus:bortezomib (250:1 mol/mol)\n",
      "Collision for PF-543: ['Sphingosine Kinase 1 Inhibitor II']\n",
      "Error for serdemetan:SCH-529074 (1:1 mol/mol): No compound found for serdemetan:SCH-529074 (1:1 mol/mol)\n",
      "Collision for erlotinib: ['Erlotinib']\n",
      "Processing 890 of 1253\n",
      "Error for THZ-2-102-1: No compound found for THZ-2-102-1\n",
      "Collision for YM-155: ['Sepantronium bromide']\n",
      "Error for TTK_3146: No compound found for TTK_3146\n",
      "Collision for NVP-TAE684: ['TAE684']\n",
      "Collision for BEZ235: ['NVP-BEZ235']\n",
      "Processing 900 of 1253\n",
      "Error for XMD11-50: No compound found for XMD11-50\n",
      "Error for Compound 4: No compound found for Compound 4\n",
      "Processing 910 of 1253\n",
      "Error for VAF-347: No compound found for VAF-347\n",
      "Collision for ATRA: ['Tretinoin', 'tretinoin']\n",
      "Collision for vandetanib: ['Vandetanib']\n",
      "Error for JNK-9L: No compound found for JNK-9L\n",
      "Collision for Gefitinib: ['gefitinib']\n",
      "Processing 920 of 1253\n",
      "Error for TANK_1366: No compound found for TANK_1366\n",
      "Collision for PRL-3 Inhibitor I: ['PRL-3 inhibitor I']\n",
      "Error for BAY-HDAC11_2: No compound found for BAY-HDAC11_2\n",
      "Collision for nilotinib: ['Nilotinib']\n",
      "Collision for gemcitabine: ['Gemcitabine']\n",
      "Error for ZL049: No compound found for ZL049\n",
      "Processing 930 of 1253\n",
      "Error for N29087-69-1: No compound found for N29087-69-1\n",
      "Error for BRD6368: No compound found for BRD6368\n",
      "Error for MCT4_1422: No compound found for MCT4_1422\n",
      "Error for GSK3337463A: No compound found for GSK3337463A\n",
      "Processing 940 of 1253\n",
      "Error for navitoclax:piperlongumine (1:1 mol/mol): No compound found for navitoclax:piperlongumine (1:1 mol/mol)\n",
      "Error for RAF_9304: No compound found for RAF_9304\n",
      "Processing 950 of 1253\n",
      "Error for BPD-00008900: No compound found for BPD-00008900\n",
      "Error for JQ-1:carboplatin (1:1 mol/mol): No compound found for JQ-1:carboplatin (1:1 mol/mol)\n",
      "Error for BRD-K27188169: No compound found for BRD-K27188169\n",
      "Collision for cyclophosphamide: ['Cyclophosphamide']\n",
      "Error for Cetuximab: No compound found for Cetuximab\n",
      "Error for THR-103: No compound found for THR-103\n",
      "Processing 960 of 1253\n",
      "Collision for Dacarbazine: ['dacarbazine']\n",
      "Error for Brivanib, BMS-540215: No compound found for Brivanib, BMS-540215\n",
      "Processing 970 of 1253\n",
      "Collision for AZD8931: ['Sapitinib']\n",
      "Error for CCT245467: No compound found for CCT245467\n",
      "Processing 980 of 1253\n",
      "Collision for Idelalisib: ['CAL-101']\n",
      "Error for selumetinib:decitabine (4:1 mol/mol): No compound found for selumetinib:decitabine (4:1 mol/mol)\n",
      "Error for PBD-288: No compound found for PBD-288\n",
      "Processing 990 of 1253\n",
      "Error for BRD-K63431240: No compound found for BRD-K63431240\n",
      "Processing 1000 of 1253\n",
      "Error for navitoclax:PLX-4032 (1:1 mol/mol): No compound found for navitoclax:PLX-4032 (1:1 mol/mol)\n",
      "Collision for BX795: ['BX-795']\n",
      "Error for JAK3_7406: No compound found for JAK3_7406\n",
      "Collision for daporinad: ['FK866', 'Daporinad']\n",
      "Processing 1010 of 1253\n",
      "Error for IRAK4_4710: No compound found for IRAK4_4710\n",
      "Error for selumetinib:UNC0638 (4:1 mol/mol): No compound found for selumetinib:UNC0638 (4:1 mol/mol)\n",
      "Collision for AZD6094: ['Savolitinib']\n",
      "Processing 1020 of 1253\n",
      "Collision for Sorafenib: ['sorafenib']\n",
      "Processing 1030 of 1253\n",
      "Error for BRD4046: No compound found for BRD4046\n",
      "Error for VSP34_8731: No compound found for VSP34_8731\n",
      "Error for Compound 12: No compound found for Compound 12\n",
      "Error for ULK1_4989: No compound found for ULK1_4989\n",
      "Error for BRD-K13185470: No compound found for BRD-K13185470\n",
      "Processing 1040 of 1253\n",
      "Error for carboplatin:etoposide (40:17 mol/mol): No compound found for carboplatin:etoposide (40:17 mol/mol)\n",
      "Collision for Nelarabine: ['nelarabine']\n",
      "Processing 1050 of 1253\n",
      "Error for crizotinib:PLX-4032 (2:1 mol/mol): No compound found for crizotinib:PLX-4032 (2:1 mol/mol)\n",
      "Collision for MST-312: ['Telomerase Inhibitor IX']\n",
      "Processing 1060 of 1253\n",
      "Collision for Tamoxifen: ['tamoxifen']\n",
      "Error for 720427: No compound found for 720427\n",
      "Processing 1070 of 1253\n",
      "Collision for navitoclax: ['Navitoclax']\n",
      "Collision for canertinib: ['CI-1033']\n",
      "Error for 1205: No compound found for 1205\n",
      "Processing 1080 of 1253\n",
      "Error for MetAP2 Inhibitor, A832234: No compound found for MetAP2 Inhibitor, A832234\n",
      "Error for ERK_6604: No compound found for ERK_6604\n",
      "Error for BRD63610: No compound found for BRD63610\n",
      "Error for BAY-MPS-combo 2 (paclitaxel 1 uM): No compound found for BAY-MPS-combo 2 (paclitaxel 1 uM)\n",
      "Error for navitoclax:gemcitabine (1:1 mol/mol): No compound found for navitoclax:gemcitabine (1:1 mol/mol)\n",
      "Processing 1090 of 1253\n",
      "Collision for Dasatinib: ['dasatinib']\n",
      "Collision for AZD5363: ['Capivasertib']\n",
      "Collision for belinostat: ['Belinostat']\n",
      "Collision for pazopanib: ['Pazopanib']\n",
      "Collision for Oxaliplatin: ['oxaliplatin']\n",
      "Collision for PLX-4720: ['PLX4720']\n",
      "Collision for CAY10576: ['GSK319347A']\n",
      "Error for JAK1_8709: No compound found for JAK1_8709\n",
      "Processing 1100 of 1253\n",
      "Error for JQ-1:navitoclax (2:1 mol/mol): No compound found for JQ-1:navitoclax (2:1 mol/mol)\n",
      "Error for tretinoin:navitoclax (4:1 mol/mol): No compound found for tretinoin:navitoclax (4:1 mol/mol)\n",
      "Error for erlotinib:PLX-4032 (2:1 mol/mol): No compound found for erlotinib:PLX-4032 (2:1 mol/mol)\n",
      "Processing 1110 of 1253\n",
      "Error for JAK_8517: No compound found for JAK_8517\n",
      "Collision for pemetrexed: ['Pemetrexed']\n",
      "Collision for Olaparib: ['olaparib']\n",
      "Error for tanespimycin:gemcitabine (1:1 mol/mol): No compound found for tanespimycin:gemcitabine (1:1 mol/mol)\n",
      "Processing 1120 of 1253\n",
      "Collision for saracatinib: ['AZD0530', 'Saracatinib']\n",
      "Error for BRD-K03911514: No compound found for BRD-K03911514\n",
      "Processing 1130 of 1253\n",
      "Collision for ASN 05257430: ['ML083']\n",
      "Error for JQ-1:vorinostat (2:1 mol/mol): No compound found for JQ-1:vorinostat (2:1 mol/mol)\n",
      "Processing 1140 of 1253\n",
      "Collision for imatinib: ['Imatinib']\n",
      "Collision for linsitinib: ['Linsitinib']\n",
      "Error for AA-COCF3: No compound found for AA-COCF3\n",
      "Error for racemic-2,4-dideoxy-DC-45-A2: No compound found for racemic-2,4-dideoxy-DC-45-A2\n",
      "Processing 1150 of 1253\n",
      "Collision for Tozasertib: ['tozasertib', 'VX-680']\n",
      "Collision for Doxorubicin: ['doxorubicin']\n",
      "Error for BRD7137: No compound found for BRD7137\n",
      "Collision for Foretinib: ['foretinib']\n",
      "Collision for Temsirolimus: ['temsirolimus']\n",
      "Error for BRD-K20514654: No compound found for BRD-K20514654\n",
      "Processing 1160 of 1253\n",
      "Error for vorinostat:navitoclax (4:1 mol/mol): No compound found for vorinostat:navitoclax (4:1 mol/mol)\n",
      "Error for BRD-A86708339: No compound found for BRD-A86708339\n",
      "Error for CAP-232, TT-232, TLN-232: No compound found for CAP-232, TT-232, TLN-232\n",
      "Processing 1170 of 1253\n",
      "Collision for lapatinib: ['Lapatinib']\n",
      "Collision for ABT737: ['ABT-737']\n",
      "Processing 1180 of 1253\n",
      "Collision for entinostat: ['Entinostat']\n",
      "Error for 123138: No compound found for 123138\n",
      "Collision for Methotrexate: ['methotrexate']\n",
      "Collision for Venetoclax: ['ABT-199']\n",
      "Collision for Ruxolitinib: ['ruxolitinib']\n",
      "Processing 1190 of 1253\n",
      "Error for EphB4_9721: No compound found for EphB4_9721\n",
      "Collision for ML029: ['CHEMBL374350']\n",
      "Collision for MK-1775: ['MK 1775']\n",
      "Processing 1200 of 1253\n",
      "Collision for BIRB-796: ['Doramapimod']\n",
      "Collision for Cediranib: ['cediranib']\n",
      "Error for BRD5586: No compound found for BRD5586\n",
      "Collision for Linifanib: ['linifanib']\n",
      "Error for THZ-2-98-01: No compound found for THZ-2-98-01\n",
      "Collision for Dactolisib: ['NVP-BEZ235', 'BEZ235']\n",
      "Processing 1210 of 1253\n",
      "Collision for AGK-2: ['AGK2']\n",
      "Processing 1220 of 1253\n",
      "Error for docetaxel:tanespimycin (2:1 mol/mol): No compound found for docetaxel:tanespimycin (2:1 mol/mol)\n",
      "Processing 1230 of 1253\n",
      "Error for P-0850: No compound found for P-0850\n",
      "Collision for BIBF-1120: ['nintedanib']\n",
      "Collision for vorinostat: ['Vorinostat']\n",
      "Collision for tivozanib: ['Tivozanib']\n",
      "Collision for tanespimycin: ['17-AAG', 'Tanespimycin']\n",
      "Error for ML334 diastereomer: No compound found for ML334 diastereomer\n",
      "Processing 1240 of 1253\n",
      "Error for BAY-MPS1: No compound found for BAY-MPS1\n",
      "Collision for fulvestrant: ['Fulvestrant']\n",
      "Error for Picolinici-acid: No compound found for Picolinici-acid\n",
      "Error for PAK_5339: No compound found for PAK_5339\n",
      "Processing 1250 of 1253\n"
     ]
    }
   ],
   "source": [
    "drug_names = set(all_drug_names[\"drug_name\"])\n",
    "iupac_hashmap = {}\n",
    "no_drug_names = []\n",
    "result_df = pd.DataFrame(columns=[\"drug_name\", \"pubchem_id\", \"iupac_name\", \"canonical_smiles\", \"cactvs_fingerprint\", \"fingerprint\"])\n",
    "for idx, drug_name in enumerate(drug_names):\n",
    "    if idx % 10 == 0:\n",
    "        print(f\"Processing {idx} of {len(drug_names)}\")\n",
    "    try:\n",
    "        compound = pcp.get_compounds(drug_name, namespace=\"name\")\n",
    "        if len(compound) == 0:\n",
    "            raise ValueError(f\"No compound found for {drug_name}\")\n",
    "        # if more than one compound is found, we will take the first match\n",
    "        compound = compound[0]\n",
    "        iupac_hash = hash(compound.iupac_name)\n",
    "        if iupac_hash not in iupac_hashmap:\n",
    "            iupac_hashmap[iupac_hash] = [drug_name]\n",
    "        elif drug_name not in iupac_hashmap[iupac_hash]:\n",
    "            print(f\"Collision for {drug_name}: {iupac_hashmap[iupac_hash]}\")\n",
    "            iupac_hashmap[iupac_hash].append(drug_name)\n",
    "        result_df = pd.concat([result_df, pd.DataFrame.from_dict({\n",
    "            \"drug_name\": [drug_name],\n",
    "            \"pubchem_id\": [compound.cid],\n",
    "            \"iupac_name\": [compound.iupac_name],\n",
    "            \"canonical_smiles\": [compound.canonical_smiles],\n",
    "            \"cactvs_fingerprint\": [compound.cactvs_fingerprint],\n",
    "            \"fingerprint\": [compound.fingerprint]\n",
    "        })\n",
    "        ])\n",
    "    except Exception as e:\n",
    "        print(f\"Error for {drug_name}: {e}\")\n",
    "        if \"No compound found\" in str(e):\n",
    "            no_drug_names.append(drug_name)"
   ],
   "metadata": {
    "collapsed": false,
    "ExecuteTime": {
     "end_time": "2025-02-20T12:47:34.621971Z",
     "start_time": "2025-02-20T12:36:59.632781Z"
    }
   },
   "id": "2fd10305f1fdda97"
  },
  {
   "cell_type": "code",
   "execution_count": 4,
   "outputs": [
    {
     "name": "stdout",
     "output_type": "stream",
     "text": [
      "Overall stats: \n",
      "Number of drug names: 1253\n",
      "Number of drug names with no compounds: 258\n",
      "Number of IUPAC hash collisions: 241\n"
     ]
    }
   ],
   "source": [
    "print(\"Overall stats: \")\n",
    "print(f\"Number of drug names: {len(drug_names)}\")\n",
    "print(f\"Number of drug names with no compounds: {len(no_drug_names)}\")\n",
    "iupac_hash_collisions = sum([len(v) for v in iupac_hashmap.values() if len(v) > 1])\n",
    "print(f\"Number of IUPAC hash collisions: {iupac_hash_collisions}\")"
   ],
   "metadata": {
    "collapsed": false,
    "ExecuteTime": {
     "end_time": "2025-02-20T12:47:55.952718Z",
     "start_time": "2025-02-20T12:47:55.923718Z"
    }
   },
   "id": "bb88a915af31f608"
  },
  {
   "cell_type": "code",
   "execution_count": 5,
   "outputs": [],
   "source": [
    "iupac_hash_collisions = [v for v in iupac_hashmap.values() if len(v) > 1]"
   ],
   "metadata": {
    "collapsed": false,
    "ExecuteTime": {
     "end_time": "2025-02-20T12:47:56.987157Z",
     "start_time": "2025-02-20T12:47:56.964048Z"
    }
   },
   "id": "a8c015c00c125998"
  },
  {
   "cell_type": "code",
   "execution_count": 6,
   "outputs": [],
   "source": [
    "pd.DataFrame(no_drug_names, columns=[\"drug_name\"]).to_csv(\"no_drug_names.csv\", index=False)\n",
    "pd.DataFrame(iupac_hash_collisions, columns=[\"drug_name_1\", \"drug_name_2\", \"drug_name_3\"]).to_csv(\"iupac_hash_collisions.csv\", index=False)"
   ],
   "metadata": {
    "collapsed": false,
    "ExecuteTime": {
     "end_time": "2025-02-20T12:48:05.493259Z",
     "start_time": "2025-02-20T12:48:05.458189Z"
    }
   },
   "id": "fc01194e23ad9fb2"
  },
  {
   "cell_type": "markdown",
   "source": [
    "First task: harmonize the iupac collisions. Find out whether they also got different PubChem IDs."
   ],
   "metadata": {
    "collapsed": false
   },
   "id": "3176442efd9f6102"
  },
  {
   "cell_type": "code",
   "execution_count": 7,
   "outputs": [],
   "source": [
    "import numpy as np\n",
    "iupac_flat = pd.DataFrame(iupac_hash_collisions, columns=[\"drug_name_1\", \"drug_name_2\", \"drug_name_3\"]).to_numpy().flatten()\n",
    "result_subset = result_df[result_df[\"drug_name\"].isin(iupac_flat)]\n",
    "for collision_list in iupac_hash_collisions:\n",
    "    pubchem_ids = result_subset[result_subset[\"drug_name\"].isin(collision_list)][\"pubchem_id\"].unique()\n",
    "    if len(pubchem_ids) > 1:\n",
    "        print(f\"Collision for {collision_list}: {pubchem_ids}\")"
   ],
   "metadata": {
    "collapsed": false,
    "ExecuteTime": {
     "end_time": "2025-02-20T12:48:14.084852Z",
     "start_time": "2025-02-20T12:48:14.041873Z"
    }
   },
   "id": "80e2c0922c77d9c8"
  },
  {
   "cell_type": "markdown",
   "source": [
    "Great news - they all got the same PubChemIDs. We will harmonize the names in a separate csv."
   ],
   "metadata": {
    "collapsed": false
   },
   "id": "f51127d705c19aab"
  },
  {
   "cell_type": "code",
   "execution_count": 9,
   "outputs": [],
   "source": [
    "hash_collisions_resolved = pd.read_csv(\"iupac_hash_collisions_resolved.csv\", index_col=0)\n",
    "mapping_dict = {}\n",
    "for idx, row in hash_collisions_resolved.iterrows():\n",
    "    for drug_name in row:\n",
    "        if not pd.isna(drug_name):\n",
    "            mapping_dict[drug_name] = idx"
   ],
   "metadata": {
    "collapsed": false,
    "ExecuteTime": {
     "end_time": "2025-02-20T12:59:13.486839Z",
     "start_time": "2025-02-20T12:59:13.442230Z"
    }
   },
   "id": "601e1428972c9f9c"
  },
  {
   "cell_type": "markdown",
   "source": [
    "Next issue: unmappable drug names. Let's see how many of them we found so far."
   ],
   "metadata": {
    "collapsed": false
   },
   "id": "a84c27f3b67cac7c"
  },
  {
   "cell_type": "code",
   "execution_count": 10,
   "outputs": [],
   "source": [
    "subsetted_drug_names = all_drug_names[all_drug_names[\"drug_name\"].isin(no_drug_names)]\n",
    "subsetted_drug_names = subsetted_drug_names.sort_values(by=\"drug_name\")"
   ],
   "metadata": {
    "collapsed": false,
    "ExecuteTime": {
     "end_time": "2025-02-20T12:59:20.470598Z",
     "start_time": "2025-02-20T12:59:20.457071Z"
    }
   },
   "id": "2373766395551d46"
  },
  {
   "cell_type": "code",
   "execution_count": 11,
   "outputs": [],
   "source": [
    "subsetted_drug_names.to_csv(\"no_drug_names_results.csv\", index=False)"
   ],
   "metadata": {
    "collapsed": false,
    "ExecuteTime": {
     "end_time": "2025-02-20T12:59:21.145082Z",
     "start_time": "2025-02-20T12:59:21.104693Z"
    }
   },
   "id": "1de0e771154495a3"
  },
  {
   "cell_type": "markdown",
   "source": [
    "We manually change some of these mappings and adapt the mapping dictionary accordingly."
   ],
   "metadata": {
    "collapsed": false
   },
   "id": "5090d3b874a6d669"
  },
  {
   "cell_type": "code",
   "execution_count": 12,
   "outputs": [],
   "source": [
    "new_mappings = {\n",
    "    \"(-)-gallocatechin-3-monogallate\": \"(-)-Gallocatechin gallate\",\n",
    "    \"16-beta-bromoandrosterone\": \"16beta-Bromoandrosterone\",\n",
    "    \"1S,3R-RSL-3\": \"(1S,3R)-Rsl3\",\n",
    "    \"2,4-dideoxy-DC-45-A2\": \"BRD-K41087962-001-01-7\",\n",
    "    \"2-bromopyruvate\": \"3-Bromopyruvic acid\",\n",
    "    \"2-deoxyglucose\": \"2-Deoxy-D-arabino-hexopyranose\",\n",
    "    \"4-methylfasudil\": \"5-(1,4-Diazepan-1-ylsulfonyl)-4-methylisoquinoline\",\n",
    "    \"5-benzyl-9-tert-butyl-paullone\": \"CHEMBL575106\",\n",
    "    \"968\": \"Glutaminase C-IN-1\",\n",
    "    \"AA-COCF3\": \"Aacocf3\",\n",
    "    \"BRD-A86708339\": \"TCMDC-125552\",\n",
    "    \"BRD-K03536150\": \"SCHEMBL16273428\",\n",
    "    \"BRD-K07442505\": \"BAM7\",\n",
    "    \"BRD-K20514654\": \"BRD-K20514654-001-01-8\",\n",
    "    \"BRD-K29313308\": \"BRD3308\",\n",
    "    \"BRD-K35604418\": \"mim1\",\n",
    "    \"BRD-K63431240\": \"BRD1240\",\n",
    "    \"BRD-K64610608\": \"MLS003179190\",\n",
    "    \"BRD-K70511574\": \"HMS3654N14\",\n",
    "    \"BRD-K79669418\": \"CHEMBL5275075\",\n",
    "    \"BRD-K88742110\": \"PCI-34051\",\n",
    "    \"BRD0713\": \"(2R,3R,4S)-4-(hydroxymethyl)-3-phenyl-1-propylazetidine-2-carbonitrile\",\n",
    "    \"BRD1812\": \"ICG-001\",\n",
    "    \"BRD2572\": \"1-[(1R,5S)-7-phenyl-6-propyl-3,6-diazabicyclo[3.1.1]heptan-3-yl]ethanone\",\n",
    "    \"BRD4046\": \"[(2S,3R,4R)-4-(aminomethyl)-3-phenyl-1-propylazetidin-2-yl]methanol\",\n",
    "    \"BRD4372\": \"1-[(1S,2aS,8bS)-1-(hydroxymethyl)-2-propyl-1,2a,3,8b-tetrahydroazeto[2,3-c]quinolin-4-yl]ethanone\",\n",
    "    \"BRD4470\": \"BRD-4470\",\n",
    "    \"BRD55319\": \"BRD-K53855319-001-01-2\",\n",
    "    \"BRD5586\": \"5-phenyl-1,7-dihydrotetrazolo[1,5-a]pyrimidine\",\n",
    "    \"BRD63610\": \"BRD-K85563610-001-01-0\",\n",
    "    \"BRD6368\": \"BRD-K14696368-001-01-8\",\n",
    "    \"BRD6430\": \"Sonidegib\",\n",
    "    \"BRD6825\": \"BRD-96825\",\n",
    "    \"BRD7137\": \"5H-quinolino[8,7-c][1,2]benzothiazine 6,6-dioxide\",\n",
    "    \"BRD8097\": \"(1S,5R)-3-methylsulfonyl-7-phenyl-6-propyl-3,6-diazabicyclo[3.1.1]heptane\",\n",
    "    \"BRD8418\": \"(1R,5S)-7-phenyl-6-propyl-3,6-diazabicyclo[3.1.1]heptane\",\n",
    "    \"BRD8958\": \"C646\",\n",
    "    \"Brivanib, BMS-540215\": \"Brivanib:BMS-540215\",\n",
    "    \"CAP-232, TT-232, TLN-232\": \"CAP-232:TT-232:TLN-232\",\n",
    "    \"CID 2853753\": \"2-(1,2-Dihydroimidazo[1,2-a]benzimidazol-4-yl)-1-(4-phenylphenyl)ethanone\",\n",
    "    \"Cetuximab\": \"C225\",\n",
    "    \"Compound 110\": \"BRD-K03618428-001-01-3\",\n",
    "    \"Compound 11e\": \"VX-11e\",\n",
    "    \"Compound 12\": \"BRD-K40892394-001-01-9\",\n",
    "    \"Compound 2\": \"BCATc Inhibitor 2\",\n",
    "    \"Compound 4\": \"PTP1B-IN-3\",\n",
    "    \"Compound 44\": \"CHEMBL5270701\",\n",
    "    \"DC-45-A2\": \"BRD-K79983625-001-01-1\",\n",
    "    \"ISOX\": \"Bml-281\",\n",
    "    \"KRAS (G12C) Inhibitor-12\": \"K-Ras(G12C) inhibitor 12\",\n",
    "    \"ML334 diastereomer\": \"BRD-K93367411-001-03-3\",\n",
    "    \"MPS-1-IN-1\": \"Mps1-IN-1\",\n",
    "    \"MetAP2 Inhibitor, A832234\": \"MetAP2 Inhibitor:A832234\",\n",
    "    \"Nutlin-3a (-)\": \"Rebemadlin\",\n",
    "    \"P-0850\": \"BRAF inhibitor\",\n",
    "    \"PP-30\": \"BRD-K30677119-001-01-0\",\n",
    "    \"Picolinici-acid\": \"Picolinic acid\",\n",
    "    \"QW-BI-011\": \"BRD-4770\",\n",
    "    \"SR-II-138A\": \"Rohinitib\",\n",
    "    \"T-5345967\": \"ML-031\",\n",
    "    \"TTNBP\": \"Arotinoid acid\",\n",
    "    \"VAF-347\": \"Vaf347\",\n",
    "    \"Venotoclax\": \"Venetoclax\",\n",
    "    \"YL54\": \"BRD-K58306044-001-01-3\",\n",
    "    \"ascorbate (vitamin C)\": \"Ascorbic acid\",\n",
    "    \"ceranib-2\": \"CHEMBL4788167\",\n",
    "    \"compound 1B\": \"Dnmdp\",\n",
    "    \"eEF2K Inhibitor, A-484954\": \"a-484954\",\n",
    "    \"erastin-A8\": \"SCHEMBL4462685\",\n",
    "    \"m-3M3-FBS\": \"Phospholipase\",\n",
    "    \"racemic-2,4-dideoxy-DC-45-A2\": \"SCHEMBL18710180\",\n",
    "    \"tipifarnib-P1\": \"Tipifarnib S enantiomer\",\n",
    "    \"tipifarnib-P2\": \"Tipifarnib\",\n",
    "}"
   ],
   "metadata": {
    "collapsed": false,
    "ExecuteTime": {
     "end_time": "2025-02-20T13:00:15.061607Z",
     "start_time": "2025-02-20T13:00:15.037747Z"
    }
   },
   "id": "2f2ddded35aacc7b"
  },
  {
   "cell_type": "code",
   "execution_count": 13,
   "outputs": [],
   "source": [
    "mapping_dict.update(new_mappings)"
   ],
   "metadata": {
    "collapsed": false,
    "ExecuteTime": {
     "end_time": "2025-02-20T13:00:16.985257Z",
     "start_time": "2025-02-20T13:00:16.979470Z"
    }
   },
   "id": "febd58ad6dc108d0"
  },
  {
   "cell_type": "code",
   "execution_count": 14,
   "outputs": [],
   "source": [
    "no_drug_names_resolved = pd.read_csv(\"no_drug_names_resolved.csv\", index_col=0)"
   ],
   "metadata": {
    "collapsed": false,
    "ExecuteTime": {
     "end_time": "2025-02-20T13:00:19.641931Z",
     "start_time": "2025-02-20T13:00:19.621503Z"
    }
   },
   "id": "195f9985a10d758e"
  },
  {
   "cell_type": "markdown",
   "source": [
    "Let's concatenate the resolved drug names to the result dataframe."
   ],
   "metadata": {
    "collapsed": false
   },
   "id": "40acccad7432310"
  },
  {
   "cell_type": "code",
   "execution_count": 15,
   "outputs": [
    {
     "name": "stdout",
     "output_type": "stream",
     "text": [
      "1205: 'PUGREST.BadRequest'\n",
      "123138: 'PUGREST.BadRequest'\n",
      "123829: 'PUGREST.BadRequest'\n",
      "150412: 'PUGREST.BadRequest'\n",
      "1807: 'PUGREST.BadRequest'\n",
      "1818: 'PUGREST.BadRequest'\n",
      "50869: 'PUGREST.BadRequest'\n",
      "615590: 'PUGREST.BadRequest'\n",
      "630600: 'PUGREST.BadRequest'\n",
      "667880: 'PUGREST.BadRequest'\n",
      "720427: 'PUGREST.BadRequest'\n",
      "729189: 'PUGREST.BadRequest'\n",
      "741909: 'PUGREST.BadRequest'\n",
      "743380: 'PUGREST.BadRequest'\n",
      "765771: 'PUGREST.BadRequest'\n",
      "776928: 'PUGREST.BadRequest'\n",
      "965-D2: 'PUGREST.BadRequest'\n",
      "993-D2: 'PUGREST.BadRequest'\n",
      "AZD7969: 'PUGREST.BadRequest'\n",
      "BAY ACCi: 'PUGREST.BadRequest'\n",
      "BAY AKT1: 'PUGREST.BadRequest'\n",
      "BAY-HDAC11_1: 'PUGREST.BadRequest'\n",
      "BAY-HDAC11_2: 'PUGREST.BadRequest'\n",
      "BAY-HDAC11_4: 'PUGREST.BadRequest'\n",
      "BAY-MPS-combo 2 (paclitaxel 1 uM): 'PUGREST.BadRequest'\n",
      "BAY-MPS-combo-1 (paclitaxel 5 uM): 'PUGREST.BadRequest'\n",
      "BAY-MPS1: 'PUGREST.BadRequest'\n",
      "BDF00022089a: 'PUGREST.BadRequest'\n",
      "BDILV000379a: 'PUGREST.BadRequest'\n",
      "BDOCA000347a: 'PUGREST.BadRequest'\n",
      "BDP-00009066: 'PUGREST.BadRequest'\n",
      "BPD-00008900: 'PUGREST.BadRequest'\n",
      "BRD-A02303741:carboplatin (1:1 mol/mol): 'PUGREST.BadRequest'\n",
      "BRD-A02303741:navitoclax (2:1 mol/mol): 'PUGREST.BadRequest'\n",
      "BRD-K03911514: 'PUGREST.BadRequest'\n",
      "BRD-K13185470: 'PUGREST.BadRequest'\n",
      "BRD-K16130065: 'PUGREST.BadRequest'\n",
      "BRD-K27188169: 'PUGREST.BadRequest'\n",
      "BRD-K27188169:navitoclax (2:1 mol/mol): 'PUGREST.BadRequest'\n",
      "BRD-K55473186: 'PUGREST.BadRequest'\n",
      "BRD-K58730230: 'PUGREST.BadRequest'\n",
      "BRD-K99584050: 'PUGREST.BadRequest'\n",
      "BRD2296: 'PUGREST.BadRequest'\n",
      "BRD2649: 'PUGREST.BadRequest'\n",
      "BRD2762: 'PUGREST.BadRequest'\n",
      "BRD5802: 'PUGREST.BadRequest'\n",
      "BRD6150: 'PUGREST.BadRequest'\n",
      "Collision for Sonidegib: ['erismodegib']\n",
      "BRD9571: 'PUGREST.BadRequest'\n",
      "BRD9658: 'PUGREST.BadRequest'\n",
      "BRD9786: 'PUGREST.BadRequest'\n",
      "BRD9876:MK-1775 (4:1 mol/mol): 'PUGREST.BadRequest'\n",
      "Bleomycin (10 uM): 'PUGREST.BadRequest'\n",
      "Bleomycin (50 uM): 'PUGREST.BadRequest'\n",
      "Bleomycin (50 uM): 'PUGREST.BadRequest'\n",
      "Brivanib, BMS-540215: 'PUGREST.BadRequest'\n",
      "CAP-232, TT-232, TLN-232: 'PUGREST.BadRequest'\n",
      "CCT245467: 'PUGREST.BadRequest'\n",
      "CDK9_5038: 'PUGREST.BadRequest'\n",
      "CDK9_5576: 'PUGREST.BadRequest'\n",
      "CRT0105446: 'PUGREST.BadRequest'\n",
      "CRT0160829: 'PUGREST.BadRequest'\n",
      "CT7033-2: 'PUGREST.BadRequest'\n",
      "Dyrk1b_0191: 'PUGREST.BadRequest'\n",
      "ERK_2440: 'PUGREST.BadRequest'\n",
      "ERK_6604: 'PUGREST.BadRequest'\n",
      "Eg5_9814: 'PUGREST.BadRequest'\n",
      "EphB4_9721: 'PUGREST.BadRequest'\n",
      "FEN1_3940: 'PUGREST.BadRequest'\n",
      "FGFR_0939: 'PUGREST.BadRequest'\n",
      "FGFR_3831: 'PUGREST.BadRequest'\n",
      "FS106: 'PUGREST.BadRequest'\n",
      "FS112: 'PUGREST.BadRequest'\n",
      "FY012: 'PUGREST.BadRequest'\n",
      "FY026: 'PUGREST.BadRequest'\n",
      "FY069: 'PUGREST.BadRequest'\n",
      "GSK2256098C: 'PUGREST.BadRequest'\n",
      "GSK2276186C: 'PUGREST.BadRequest'\n",
      "GSK2830371A: 'PUGREST.BadRequest'\n",
      "GSK3337463A: 'PUGREST.BadRequest'\n",
      "GSK626616AC: 'PUGREST.BadRequest'\n",
      "Genentech Cpd 10: 'PUGREST.BadRequest'\n",
      "HG-6-71-01: 'PUGREST.BadRequest'\n",
      "HKMTI-1-005: 'PUGREST.BadRequest'\n",
      "IAP_5620: 'PUGREST.BadRequest'\n",
      "IAP_5620: 'PUGREST.BadRequest'\n",
      "IAP_7638: 'PUGREST.BadRequest'\n",
      "ICL1100013: 'PUGREST.BadRequest'\n",
      "IGF1R_3801: 'PUGREST.BadRequest'\n",
      "IGFR_3801: 'PUGREST.BadRequest'\n",
      "IRAK4_4710: 'PUGREST.BadRequest'\n",
      "Collision for Bml-281: ['CAY10603']\n",
      "Collision for Bml-281: ['CAY10603', 'ISOX']\n",
      "ISOX:bortezomib (250:1 mol/mol): 'PUGREST.BadRequest'\n",
      "JAK1_3715: 'PUGREST.BadRequest'\n",
      "JAK1_8709: 'PUGREST.BadRequest'\n",
      "JAK3_7406: 'PUGREST.BadRequest'\n",
      "JAK_8517: 'PUGREST.BadRequest'\n",
      "JNK-9L: 'PUGREST.BadRequest'\n",
      "JQ-1:MK-0752 (1:1 mol/mol): 'PUGREST.BadRequest'\n",
      "JQ-1:UNC0638 (2:1 mol/mol): 'PUGREST.BadRequest'\n",
      "JQ-1:carboplatin (1:1 mol/mol): 'PUGREST.BadRequest'\n",
      "JQ-1:navitoclax (2:1 mol/mol): 'PUGREST.BadRequest'\n",
      "JQ-1:vorinostat (2:1 mol/mol): 'PUGREST.BadRequest'\n",
      "JW-7-52-1: 'PUGREST.BadRequest'\n",
      "KIN001-042: 'PUGREST.BadRequest'\n",
      "KIN001-236: 'PUGREST.BadRequest'\n",
      "KIN001-260: 'PUGREST.BadRequest'\n",
      "LMB_AB1: 'PUGREST.BadRequest'\n",
      "LMB_AB2: 'PUGREST.BadRequest'\n",
      "LMB_AB3: 'PUGREST.BadRequest'\n",
      "MCT1_6447: 'PUGREST.BadRequest'\n",
      "MCT4_1422: 'PUGREST.BadRequest'\n",
      "MetAP2 Inhibitor, A832234: 'PUGREST.BadRequest'\n",
      "N22899-6-C1: 'PUGREST.BadRequest'\n",
      "N23918-95-7: 'PUGREST.BadRequest'\n",
      "N24798-49-A1: 'PUGREST.BadRequest'\n",
      "N25720-51-A1: 'PUGREST.BadRequest'\n",
      "N27922-53-1: 'PUGREST.BadRequest'\n",
      "N29087-69-1: 'PUGREST.BadRequest'\n",
      "N30652-18-1: 'PUGREST.BadRequest'\n",
      "PAK_5339: 'PUGREST.BadRequest'\n",
      "PARP_0108: 'PUGREST.BadRequest'\n",
      "PARP_9482: 'PUGREST.BadRequest'\n",
      "PARP_9495: 'PUGREST.BadRequest'\n",
      "PBD-288: 'PUGREST.BadRequest'\n",
      "PI3Ka_4409: 'PUGREST.BadRequest'\n",
      "PLK_6522: 'PUGREST.BadRequest'\n",
      "QL-VIII-58: 'PUGREST.BadRequest'\n",
      "QL-XII-61: 'PUGREST.BadRequest'\n",
      "Collision for BRD-4770: ['BRD4770']\n",
      "RAF_9304: 'PUGREST.BadRequest'\n",
      "SNX-2112:bortezomib (250:1 mol/mol): 'PUGREST.BadRequest'\n",
      "Collision for ML-031: ['ML031']\n",
      "TAF1_5496: 'PUGREST.BadRequest'\n",
      "TANK_1366: 'PUGREST.BadRequest'\n",
      "THR-101: 'PUGREST.BadRequest'\n",
      "THR-102: 'PUGREST.BadRequest'\n",
      "THR-103: 'PUGREST.BadRequest'\n",
      "THZ-1-87: 'PUGREST.BadRequest'\n",
      "THZ-2-102-1: 'PUGREST.BadRequest'\n",
      "THZ-2-49: 'PUGREST.BadRequest'\n",
      "THZ-2-98-01: 'PUGREST.BadRequest'\n",
      "TL-1-85: 'PUGREST.BadRequest'\n",
      "TL-2-105: 'PUGREST.BadRequest'\n",
      "TTK_3146: 'PUGREST.BadRequest'\n",
      "ULK1_4989: 'PUGREST.BadRequest'\n",
      "UNC0638:navitoclax (1:1 mol/mol): 'PUGREST.BadRequest'\n",
      "VSP34_8731: 'PUGREST.BadRequest'\n",
      "VTP-A: 'PUGREST.BadRequest'\n",
      "VTP-B: 'PUGREST.BadRequest'\n",
      "XMD11-50: 'PUGREST.BadRequest'\n",
      "XMD15-27: 'PUGREST.BadRequest'\n",
      "ZL049: 'PUGREST.BadRequest'\n",
      "ZL109: 'PUGREST.BadRequest'\n",
      "alisertib:navitoclax (2:1 mol/mol): 'PUGREST.BadRequest'\n",
      "carboplatin:UNC0638 (2:1 mol/mol): 'PUGREST.BadRequest'\n",
      "carboplatin:etoposide (40:17 mol/mol): 'PUGREST.BadRequest'\n",
      "crizotinib:PLX-4032 (2:1 mol/mol): 'PUGREST.BadRequest'\n",
      "decitabine:carboplatin (1:1 mol/mol): 'PUGREST.BadRequest'\n",
      "decitabine:navitoclax (2:1 mol/mol): 'PUGREST.BadRequest'\n",
      "docetaxel:tanespimycin (2:1 mol/mol): 'PUGREST.BadRequest'\n",
      "doxorubicin:navitoclax (2:1 mol/mol): 'PUGREST.BadRequest'\n",
      "erlotinib:PLX-4032 (2:1 mol/mol): 'PUGREST.BadRequest'\n",
      "iso-DC-45-A2: 'PUGREST.BadRequest'\n",
      "navitoclax:MST-312 (1:1 mol/mol): 'PUGREST.BadRequest'\n",
      "navitoclax:PLX-4032 (1:1 mol/mol): 'PUGREST.BadRequest'\n",
      "navitoclax:birinapant (1:1 mol/mol): 'PUGREST.BadRequest'\n",
      "navitoclax:gemcitabine (1:1 mol/mol): 'PUGREST.BadRequest'\n",
      "navitoclax:piperlongumine (1:1 mol/mol): 'PUGREST.BadRequest'\n",
      "navitoclax:pluripotin (1:1 mol/mol): 'PUGREST.BadRequest'\n",
      "navitoclax:sorafenib (1:1 mol/mol): 'PUGREST.BadRequest'\n",
      "piperlongumine:MST-312 (1:1 mol/mol): 'PUGREST.BadRequest'\n",
      "rTRAIL: 'PUGREST.BadRequest'\n",
      "salermide:PLX-4032 (12:1 mol/mol): 'PUGREST.BadRequest'\n",
      "selumetinib:BRD-A02303741 (4:1 mol/mol): 'PUGREST.BadRequest'\n",
      "selumetinib:GDC-0941 (4:1 mol/mol): 'PUGREST.BadRequest'\n",
      "selumetinib:JQ-1 (4:1 mol/mol): 'PUGREST.BadRequest'\n",
      "selumetinib:MK-2206 (8:1 mol/mol): 'PUGREST.BadRequest'\n",
      "selumetinib:PLX-4032 (8:1 mol/mol): 'PUGREST.BadRequest'\n",
      "selumetinib:UNC0638 (4:1 mol/mol): 'PUGREST.BadRequest'\n",
      "selumetinib:decitabine (4:1 mol/mol): 'PUGREST.BadRequest'\n",
      "selumetinib:navitoclax (8:1 mol/mol): 'PUGREST.BadRequest'\n",
      "selumetinib:piperlongumine (8:1 mol/mol): 'PUGREST.BadRequest'\n",
      "selumetinib:tretinoin (2:1 mol/mol): 'PUGREST.BadRequest'\n",
      "selumetinib:vorinostat (8:1 mol/mol): 'PUGREST.BadRequest'\n",
      "serdemetan:SCH-529074 (1:1 mol/mol): 'PUGREST.BadRequest'\n",
      "sirolimus:bortezomib (250:1 mol/mol): 'PUGREST.BadRequest'\n",
      "tanespimycin:bortezomib (250:1 mol/mol): 'PUGREST.BadRequest'\n",
      "tanespimycin:gemcitabine (1:1 mol/mol): 'PUGREST.BadRequest'\n",
      "tretinoin:carboplatin (2:1 mol/mol): 'PUGREST.BadRequest'\n",
      "tretinoin:navitoclax (4:1 mol/mol): 'PUGREST.BadRequest'\n",
      "vorinostat:carboplatin (1:1 mol/mol): 'PUGREST.BadRequest'\n",
      "vorinostat:navitoclax (4:1 mol/mol): 'PUGREST.BadRequest'\n"
     ]
    }
   ],
   "source": [
    "new_df = result_df.copy()\n",
    "new_collisions = {}\n",
    "for idx, row in no_drug_names_resolved.iterrows():\n",
    "    try:\n",
    "        compound = pcp.get_compounds(idx, namespace=\"cid\")\n",
    "        if len(compound) == 0:\n",
    "            raise ValueError(f\"No compound found for {row['drug_name']}\")\n",
    "        compound = compound[0]\n",
    "        iupac_hash = hash(compound.iupac_name)\n",
    "        if (iupac_hash in iupac_hashmap) and (mapping_dict.get(row['drug_name'], row['drug_name']) not in iupac_hashmap[iupac_hash]):\n",
    "            new_name = mapping_dict.get(row['drug_name'], row['drug_name'])\n",
    "            print(f\"Collision for {new_name}: {iupac_hashmap[iupac_hash]}\")\n",
    "            new_collisions[iupac_hash] = iupac_hashmap[iupac_hash].append(row['drug_name'])\n",
    "        new_df = pd.concat([new_df, pd.DataFrame.from_dict({\n",
    "            \"drug_name\": [row['drug_name']],\n",
    "            \"pubchem_id\": [compound.cid],\n",
    "            \"iupac_name\": [compound.iupac_name],\n",
    "            \"canonical_smiles\": [compound.canonical_smiles],\n",
    "            \"cactvs_fingerprint\": [compound.cactvs_fingerprint],\n",
    "            \"fingerprint\": [compound.fingerprint]\n",
    "        })\n",
    "        ])\n",
    "    except Exception as e:\n",
    "        print(f\"{row['drug_name']}: {e}\")\n",
    "        "
   ],
   "metadata": {
    "collapsed": false,
    "ExecuteTime": {
     "end_time": "2025-02-20T13:02:19.196594Z",
     "start_time": "2025-02-20T13:00:26.060837Z"
    }
   },
   "id": "aaf8df3bda3304ef"
  },
  {
   "cell_type": "code",
   "execution_count": 16,
   "outputs": [],
   "source": [
    "# change the mapping dict for collisions\n",
    "mapping_dict.update({\n",
    "    \"erismodegib\": \"Sonidegib\",\n",
    "    \"CAY10603\": \"Bml-281\",\n",
    "    \"BRD4770\": \"BRD-4770\",\n",
    "    \"ML031\": \"ML-031\",\n",
    "})"
   ],
   "metadata": {
    "collapsed": false,
    "ExecuteTime": {
     "end_time": "2025-02-20T13:02:32.946222Z",
     "start_time": "2025-02-20T13:02:32.937754Z"
    }
   },
   "id": "e116dc9987bc7936"
  },
  {
   "cell_type": "code",
   "execution_count": 17,
   "outputs": [],
   "source": [
    "no_drug_names_rest = no_drug_names_resolved[no_drug_names_resolved.index.isin([drug_id for drug_id in no_drug_names_resolved.index if drug_id not in new_df[\"pubchem_id\"].values.astype(str)])]"
   ],
   "metadata": {
    "collapsed": false,
    "ExecuteTime": {
     "end_time": "2025-02-20T13:02:34.575040Z",
     "start_time": "2025-02-20T13:02:34.507873Z"
    }
   },
   "id": "7d448c12be987caa"
  },
  {
   "cell_type": "markdown",
   "source": [
    "For CTRPv1, CTRPv2, we have smiles, even if we don't have Pubchem IDs. We shall merge"
   ],
   "metadata": {
    "collapsed": false
   },
   "id": "85031c4a25efa2c8"
  },
  {
   "cell_type": "code",
   "execution_count": 18,
   "outputs": [],
   "source": [
    "smiles_ctrpv1 = pd.read_csv(\"../CTRP/response/CTRPv1.0_2013_pub_Cell_154_1151/v10.M1.informer_set.txt\", sep=\"\\t\")[[\"cpd_name\", \"cpd_smiles\"]].drop_duplicates()\n",
    "smiles_ctrpv2 = pd.read_csv(\"../CTRP/response/CTRPv2.0_2015_ctd2_ExpandedDataset/v20.meta.per_compound.txt\", sep=\"\\t\")[[\"cpd_name\", \"cpd_smiles\"]].drop_duplicates()\n",
    "all_smiles = pd.concat([smiles_ctrpv1, smiles_ctrpv2]).drop_duplicates()"
   ],
   "metadata": {
    "collapsed": false,
    "ExecuteTime": {
     "end_time": "2025-02-20T13:02:35.968735Z",
     "start_time": "2025-02-20T13:02:35.934976Z"
    }
   },
   "id": "426e27c4371481f6"
  },
  {
   "cell_type": "code",
   "execution_count": 19,
   "outputs": [],
   "source": [
    "all_smiles = all_smiles[all_smiles[\"cpd_name\"].isin(no_drug_names_rest[\"drug_name\"])]"
   ],
   "metadata": {
    "collapsed": false,
    "ExecuteTime": {
     "end_time": "2025-02-20T13:02:37.925881Z",
     "start_time": "2025-02-20T13:02:37.902335Z"
    }
   },
   "id": "ec6be17432a7167"
  },
  {
   "cell_type": "code",
   "execution_count": 20,
   "outputs": [],
   "source": [
    "all_smiles.columns = [\"drug_name\", \"canonical_smiles\"]"
   ],
   "metadata": {
    "collapsed": false,
    "ExecuteTime": {
     "end_time": "2025-02-20T13:02:38.631324Z",
     "start_time": "2025-02-20T13:02:38.617879Z"
    }
   },
   "id": "beebee132910d1fa"
  },
  {
   "cell_type": "code",
   "execution_count": 21,
   "outputs": [],
   "source": [
    "no_drug_names_rest = no_drug_names_rest.reset_index()"
   ],
   "metadata": {
    "collapsed": false,
    "ExecuteTime": {
     "end_time": "2025-02-20T13:02:39.448365Z",
     "start_time": "2025-02-20T13:02:39.438102Z"
    }
   },
   "id": "8bd01947fdeb3154"
  },
  {
   "cell_type": "code",
   "execution_count": 22,
   "outputs": [],
   "source": [
    "no_drug_names_rest = no_drug_names_rest.merge(all_smiles, on=\"drug_name\", how=\"left\")"
   ],
   "metadata": {
    "collapsed": false,
    "ExecuteTime": {
     "end_time": "2025-02-20T13:02:39.973717Z",
     "start_time": "2025-02-20T13:02:39.967404Z"
    }
   },
   "id": "efa96e4fd0e6b821"
  },
  {
   "cell_type": "code",
   "execution_count": 23,
   "outputs": [],
   "source": [
    "no_drug_names_rest[\"fingerprint\"] = np.nan\n",
    "no_drug_names_rest[\"iupac_name\"] = np.nan\n",
    "no_drug_names_rest[\"cactvs_fingerprint\"] = np.nan\n",
    "no_drug_names_rest[\"fingerprint\"] = np.nan"
   ],
   "metadata": {
    "collapsed": false,
    "ExecuteTime": {
     "end_time": "2025-02-20T13:02:40.688368Z",
     "start_time": "2025-02-20T13:02:40.676575Z"
    }
   },
   "id": "daad1f56664bde98"
  },
  {
   "cell_type": "code",
   "execution_count": 24,
   "outputs": [],
   "source": [
    "new_df = pd.concat([new_df, no_drug_names_rest])"
   ],
   "metadata": {
    "collapsed": false,
    "ExecuteTime": {
     "end_time": "2025-02-20T13:02:41.266450Z",
     "start_time": "2025-02-20T13:02:41.260719Z"
    }
   },
   "id": "ee7292317e559c9f"
  },
  {
   "cell_type": "code",
   "execution_count": 25,
   "outputs": [],
   "source": [
    "# some last minute mappings\n",
    "new_df[new_df[\"drug_name\"] == \"JNK-9L\"] = [\"JNK-9L\", 25222038, \"4-(3-fluoro-5-morpholin-4-ylphenyl)-N-[4-(3-morpholin-4-yl-1,2,4-triazol-1-yl)phenyl]pyrimidin-2-amine\", \"C1COCCN1C2=CC(=CC(=C2)C3=NC(=NC=C3)NC4=CC=C(C=C4)N5C=NC(=N5)N6CCOCC6)F\", np.nan, np.nan, \"GDSC1\"]\n",
    "new_df[new_df[\"drug_name\"] == \"Bleomycin (10 uM)\"] = [\"Bleomycin (10 uM)\", \"Bleomycin (10 uM)\", \"3-[[2-[2-[2-[[(2S,3R)-2-[[(2S,3S,4R)-4-[[(2S,3R)-2-[[6-amino-2-[(1S)-3-amino-1-[[(2S)-2,3-diamino-3-oxopropyl]amino]-3-oxopropyl]-5-methylpyrimidine-4-carbonyl]amino]-3-[3-[4-carbamoyloxy-3,5-dihydroxy-6-(hydroxymethyl)oxan-2-yl]oxy-4,5-dihydroxy-6-(hydroxymethyl)oxan-2-yl]oxy-3-(1H-imidazol-5-yl)propanoyl]amino]-3-hydroxy-2-methylpentanoyl]amino]-3-hydroxybutanoyl]amino]ethyl]-1,3-thiazol-4-yl]-1,3-thiazole-4-carbonyl]amino]propyl-dimethylsulfanium\", \"CC1=C(N=C(N=C1N)[C@H](CC(=O)N)NC[C@@H](C(=O)N)N)C(=O)N[C@@H]([C@H](C2=CN=CN2)OC3C(C(C(C(O3)CO)O)O)OC4C(C(C(C(O4)CO)O)OC(=O)N)O)C(=O)N[C@H](C)[C@H]([C@H](C)C(=O)N[C@@H]([C@@H](C)O)C(=O)NCCC5=NC(=CS5)C6=NC(=CS6)C(=O)NCCC[S+](C)C)O\", np.nan, np.nan, \"GDSC1\"]\n",
    "\n",
    "new_df[(new_df[\"drug_name\"] == \"Bleomycin (50 uM)\") & (new_df[\"dataset\"] == \"GDSC1\")] = [\"Bleomycin (50 uM)\", \"Bleomycin (50 uM)\", \"3-[[2-[2-[2-[[(2S,3R)-2-[[(2S,3S,4R)-4-[[(2S,3R)-2-[[6-amino-2-[(1S)-3-amino-1-[[(2S)-2,3-diamino-3-oxopropyl]amino]-3-oxopropyl]-5-methylpyrimidine-4-carbonyl]amino]-3-[3-[4-carbamoyloxy-3,5-dihydroxy-6-(hydroxymethyl)oxan-2-yl]oxy-4,5-dihydroxy-6-(hydroxymethyl)oxan-2-yl]oxy-3-(1H-imidazol-5-yl)propanoyl]amino]-3-hydroxy-2-methylpentanoyl]amino]-3-hydroxybutanoyl]amino]ethyl]-1,3-thiazol-4-yl]-1,3-thiazole-4-carbonyl]amino]propyl-dimethylsulfanium\", \"CC1=C(N=C(N=C1N)[C@H](CC(=O)N)NC[C@@H](C(=O)N)N)C(=O)N[C@@H]([C@H](C2=CN=CN2)OC3C(C(C(C(O3)CO)O)O)OC4C(C(C(C(O4)CO)O)OC(=O)N)O)C(=O)N[C@H](C)[C@H]([C@H](C)C(=O)N[C@@H]([C@@H](C)O)C(=O)NCCC5=NC(=CS5)C6=NC(=CS6)C(=O)NCCC[S+](C)C)O\", np.nan, np.nan, \"GDSC1\"]\n",
    "\n",
    "new_df[(new_df[\"drug_name\"] == \"Bleomycin (50 uM)\") & (new_df[\"dataset\"] == \"GDSC2\")] = [\"Bleomycin (50 uM)\", \"Bleomycin (50 uM)\", \"3-[[2-[2-[2-[[(2S,3R)-2-[[(2S,3S,4R)-4-[[(2S,3R)-2-[[6-amino-2-[(1S)-3-amino-1-[[(2S)-2,3-diamino-3-oxopropyl]amino]-3-oxopropyl]-5-methylpyrimidine-4-carbonyl]amino]-3-[3-[4-carbamoyloxy-3,5-dihydroxy-6-(hydroxymethyl)oxan-2-yl]oxy-4,5-dihydroxy-6-(hydroxymethyl)oxan-2-yl]oxy-3-(1H-imidazol-5-yl)propanoyl]amino]-3-hydroxy-2-methylpentanoyl]amino]-3-hydroxybutanoyl]amino]ethyl]-1,3-thiazol-4-yl]-1,3-thiazole-4-carbonyl]amino]propyl-dimethylsulfanium\", \"CC1=C(N=C(N=C1N)[C@H](CC(=O)N)NC[C@@H](C(=O)N)N)C(=O)N[C@@H]([C@H](C2=CN=CN2)OC3C(C(C(C(O3)CO)O)O)OC4C(C(C(C(O4)CO)O)OC(=O)N)O)C(=O)N[C@H](C)[C@H]([C@H](C)C(=O)N[C@@H]([C@@H](C)O)C(=O)NCCC5=NC(=CS5)C6=NC(=CS6)C(=O)NCCC[S+](C)C)O\", np.nan, np.nan, \"GDSC2\"]\n",
    "\n",
    "new_df[new_df[\"drug_name\"] == \"KIN001-260\"] = [\"KIN001-260\", \"157400995\", \"potassium;azide;iodide\", \"[N-]=[N+]=[N-].[K+].[I-]\", np.nan, np.nan, \"GDSC1\"]\n",
    "\n",
    "new_df[new_df[\"drug_name\"] == \"BDILV000379a\"] = [\"BDILV000379a\", \"BDILV000379a\", \"4-(4-(1-methyl-1H-pyrazol-4-yl)-1-(2-(1-methyl-1H-pyrazol-4-yl)ethyl)-4,5-dihydro-1H-imidazol-5-yl)benzonitrile\", \"CN1N=CC(=C1)C1N=CN(C1C1=CC=C(C#N)C=C1)CCC=1C=NN(C1)C\", np.nan, np.nan, \"GDSC2\"]"
   ],
   "metadata": {
    "collapsed": false,
    "ExecuteTime": {
     "end_time": "2025-02-20T13:02:42.158819Z",
     "start_time": "2025-02-20T13:02:42.147335Z"
    }
   },
   "id": "b35b6cda307b3bfb"
  },
  {
   "cell_type": "code",
   "execution_count": 26,
   "outputs": [],
   "source": [
    "new_df = new_df.drop(columns=[\"dataset\"])\n",
    "mapping_dict.update(\n",
    "    {\n",
    "        \"JNK-9L\": \"JNK inhibitor 9l\",\n",
    "        \"KIN001-260\": \"Potassium;azide;iodide\",\n",
    "        \"VNLG/124\": \"VNLG-124\",\n",
    "    }\n",
    ")"
   ],
   "metadata": {
    "collapsed": false,
    "ExecuteTime": {
     "end_time": "2025-02-20T13:02:46.864375Z",
     "start_time": "2025-02-20T13:02:46.852405Z"
    }
   },
   "id": "2730675bf21eac1"
  },
  {
   "cell_type": "code",
   "execution_count": 27,
   "outputs": [],
   "source": [
    "# slashes are a problem\n",
    "new_df[\"drug_name\"] = new_df[\"drug_name\"].astype(str)\n",
    "new_df[\"pubchem_id\"] = new_df[\"pubchem_id\"].astype(str)\n",
    "new_df[\"drug_name\"] = new_df[\"drug_name\"].apply(lambda x: x.replace(\"/\", \"-\"))\n",
    "new_df[\"pubchem_id\"] = new_df[\"pubchem_id\"].apply(lambda x: x.replace(\"/\", \"-\"))"
   ],
   "metadata": {
    "collapsed": false,
    "ExecuteTime": {
     "end_time": "2025-02-20T13:02:48.595099Z",
     "start_time": "2025-02-20T13:02:48.587751Z"
    }
   },
   "id": "3f0f8bb0550db59a"
  },
  {
   "cell_type": "code",
   "execution_count": 29,
   "outputs": [],
   "source": [
    "new_df.to_csv(\"all_smiles_old_names.csv\", index=False)"
   ],
   "metadata": {
    "collapsed": false,
    "ExecuteTime": {
     "end_time": "2025-02-20T13:03:07.936732Z",
     "start_time": "2025-02-20T13:03:07.914085Z"
    }
   },
   "id": "7bd004d81c1a931d"
  },
  {
   "cell_type": "code",
   "execution_count": 30,
   "outputs": [],
   "source": [
    "# new names\n",
    "new_df[\"drug_name\"] = new_df[\"drug_name\"].apply(lambda x: mapping_dict.get(x, x))"
   ],
   "metadata": {
    "collapsed": false,
    "ExecuteTime": {
     "end_time": "2025-02-20T13:03:09.646257Z",
     "start_time": "2025-02-20T13:03:09.634966Z"
    }
   },
   "id": "9777dee46e16ab5"
  },
  {
   "cell_type": "code",
   "execution_count": 31,
   "outputs": [],
   "source": [
    "new_df = new_df.drop_duplicates()\n",
    "new_df.to_csv(\"all_smiles.csv\", index=False)"
   ],
   "metadata": {
    "collapsed": false,
    "ExecuteTime": {
     "end_time": "2025-02-20T13:03:12.077393Z",
     "start_time": "2025-02-20T13:03:12.040246Z"
    }
   },
   "id": "bc7c2f6c01fc0b2a"
  },
  {
   "cell_type": "markdown",
   "source": [
    "Now we change all response files: \n",
    "1. We make a dictionary name -> pubchem id\n",
    "2. We change the names and pubchem ids in the response files"
   ],
   "metadata": {
    "collapsed": false
   },
   "id": "86487ae75d731673"
  },
  {
   "cell_type": "code",
   "execution_count": 33,
   "outputs": [],
   "source": [
    "name_to_pubchem = dict(zip(new_df[\"drug_name\"], new_df[\"pubchem_id\"]))"
   ],
   "metadata": {
    "collapsed": false,
    "ExecuteTime": {
     "end_time": "2025-02-20T13:03:29.650163Z",
     "start_time": "2025-02-20T13:03:29.631768Z"
    }
   },
   "id": "9b8750250387e3a3"
  },
  {
   "cell_type": "code",
   "execution_count": 34,
   "outputs": [
    {
     "name": "stdout",
     "output_type": "stream",
     "text": [
      "Processing CCLE\n",
      "Processing CTRPv1\n",
      "Processing CTRPv2\n"
     ]
    },
    {
     "name": "stderr",
     "output_type": "stream",
     "text": [
      "/var/folders/3x/f8j9tddj7flfxt9zx1gkws1m0000gn/T/ipykernel_31287/2691140757.py:4: DtypeWarning: Columns (2) have mixed types. Specify dtype option on import or set low_memory=False.\n",
      "  df = pd.read_csv(file)\n"
     ]
    },
    {
     "name": "stdout",
     "output_type": "stream",
     "text": [
      "Processing GDSC1\n",
      "Processing GDSC2\n"
     ]
    },
    {
     "name": "stderr",
     "output_type": "stream",
     "text": [
      "/var/folders/3x/f8j9tddj7flfxt9zx1gkws1m0000gn/T/ipykernel_31287/2691140757.py:4: DtypeWarning: Columns (2,25) have mixed types. Specify dtype option on import or set low_memory=False.\n",
      "  df = pd.read_csv(file)\n"
     ]
    }
   ],
   "source": [
    "import os\n",
    "for dataset, file in all_datasets.items():\n",
    "    print(\"Processing\", dataset)\n",
    "    df = pd.read_csv(file)\n",
    "    df[\"drug_name\"] = df[\"drug_name\"].apply(lambda x: mapping_dict.get(x, x))\n",
    "    df[\"pubchem_id\"] = df[\"drug_name\"].apply(lambda x: name_to_pubchem.get(x, x))\n",
    "    df[\"drug_name\"] = df[\"drug_name\"].astype(str)\n",
    "    df[\"pubchem_id\"] = df[\"pubchem_id\"].astype(str)\n",
    "    df[\"drug_name\"] = df[\"drug_name\"].apply(lambda x: x.replace(\"/\", \"-\"))\n",
    "    df[\"pubchem_id\"] = df[\"pubchem_id\"].apply(lambda x: x.replace(\"/\", \"-\"))\n",
    "    df[\"Name\"] = df[\"cellosaurus_id\"] + \"|\" + df[\"pubchem_id\"].astype(str)\n",
    "    new_file = file.replace(\".csv\", \"_new.csv\")\n",
    "    df.to_csv(new_file, index=False)\n",
    "    df_drugs = df[['pubchem_id', 'drug_name']]\n",
    "    df_drugs = df_drugs.drop_duplicates()\n",
    "    dir = os.path.dirname(new_file)\n",
    "    df_drugs.to_csv(f\"{dir}/drug_names.csv\", index=False)"
   ],
   "metadata": {
    "collapsed": false,
    "ExecuteTime": {
     "end_time": "2025-02-20T13:03:59.983707Z",
     "start_time": "2025-02-20T13:03:30.971981Z"
    }
   },
   "id": "8bc29188ab52b6fe"
  },
  {
   "cell_type": "code",
   "execution_count": 35,
   "outputs": [],
   "source": [
    "from rdkit import Chem\n",
    "from rdkit.Chem import rdFingerprintGenerator\n",
    "import numpy as np\n",
    "import pandas as pd\n",
    "# Load SMILES data\n",
    "drugs = pd.read_csv(\"all_smiles.csv\", index_col=1)\n",
    "\n",
    "def smiles_to_demorgan_fingerprints(smiles_df, n_bits=128, radius=2):\n",
    "    \"\"\"\n",
    "    Converts a list of SMILES strings to a list of DeMorgan fingerprints.\n",
    "    Parameters:\n",
    "        smiles_list (list of str): List of SMILES strings.\n",
    "        n_bits (int): Number of bits for the fingerprint (default: 128).\n",
    "        radius (int): Morgan fingerprint radius (default: 2).\n",
    "    Returns:\n",
    "        list: List of fingerprint bit arrays or 'NA' for invalid SMILES.\n",
    "    \"\"\"\n",
    "    fingerprint_df = pd.DataFrame(columns=[\"pubchem_id\", \"fingerprint\"])\n",
    "    for pubchem_id, row in smiles_df.iterrows():\n",
    "        smiles = row[\"canonical_smiles\"]\n",
    "        if not pd.isna(smiles):  \n",
    "            mol = Chem.MolFromSmiles(smiles)\n",
    "            mpfgen = rdFingerprintGenerator.GetMorganGenerator(radius=radius, fpSize=n_bits)\n",
    "            fp = mpfgen.GetFingerprint(mol).ToList()\n",
    "        else:\n",
    "            fp = [np.nan] * n_bits\n",
    "        fingerprint_df = pd.concat([fingerprint_df, pd.DataFrame.from_dict({\n",
    "            \"pubchem_id\": [pubchem_id],\n",
    "            \"fingerprint\": [fp]\n",
    "        })])\n",
    "    return fingerprint_df"
   ],
   "metadata": {
    "collapsed": false,
    "ExecuteTime": {
     "end_time": "2025-02-20T13:04:00.828010Z",
     "start_time": "2025-02-20T13:03:59.998057Z"
    }
   },
   "id": "25d1afe9674fb4a6"
  },
  {
   "cell_type": "code",
   "execution_count": 36,
   "outputs": [],
   "source": [
    "for n_bits in [64, 128, 256, 512, 1024, 2048]:\n",
    "    fingerprints = smiles_to_demorgan_fingerprints(drugs, n_bits=n_bits)\n",
    "    fingerprints = fingerprints.set_index(\"pubchem_id\")\n",
    "    # split list into columns\n",
    "    fingerprints = pd.DataFrame(fingerprints[\"fingerprint\"].tolist(), index=fingerprints.index)\n",
    "    fingerprints = fingerprints[~fingerprints.index.duplicated(keep='first')]\n",
    "    fingerprints = fingerprints.T\n",
    "    # set everything to integers if it is not nan\n",
    "    fingerprints = fingerprints.map(lambda x: x if pd.isna(x) else int(x))\n",
    "    fingerprints.to_csv(f\"pubchem_id_to_demorgan_{n_bits}_map.csv\", index=False)"
   ],
   "metadata": {
    "collapsed": false,
    "ExecuteTime": {
     "end_time": "2025-02-20T13:04:05.155174Z",
     "start_time": "2025-02-20T13:04:00.843843Z"
    }
   },
   "id": "5d97034945449fe7"
  },
  {
   "cell_type": "code",
   "execution_count": 37,
   "outputs": [],
   "source": [
    "drug_to_dataset = {}\n",
    "for dataset, file in all_datasets.items():\n",
    "    parent = os.path.dirname(file)\n",
    "    df = pd.read_csv(f\"{parent}/drug_names.csv\", index_col=0)\n",
    "    for idx, row in df.iterrows():\n",
    "        idx = str(idx)\n",
    "        if drug_to_dataset.get(idx, None) is None:\n",
    "            drug_to_dataset[idx] = [dataset]\n",
    "        else:\n",
    "            drug_to_dataset[idx].append(dataset)"
   ],
   "metadata": {
    "collapsed": false,
    "ExecuteTime": {
     "end_time": "2025-02-20T13:04:05.214881Z",
     "start_time": "2025-02-20T13:04:05.141959Z"
    }
   },
   "id": "8b42821ddaf3be24"
  },
  {
   "cell_type": "code",
   "execution_count": 38,
   "outputs": [],
   "source": [
    "# subset fingerprints\n",
    "for dataset, file in all_datasets.items():\n",
    "    parent = os.path.dirname(file)\n",
    "    new_dir = f\"{parent}/drug_fingerprints\"\n",
    "    for n_bits in [64, 128, 256, 512, 1024, 2048]:\n",
    "        fingerprints = pd.read_csv(f\"pubchem_id_to_demorgan_{n_bits}_map.csv\")\n",
    "        subset = [drug for drug in fingerprints.columns if drug_to_dataset.get(drug) is not None and dataset in drug_to_dataset[drug]]\n",
    "        fingerprints = fingerprints[subset]\n",
    "        fingerprints.to_csv(f\"{new_dir}/pubchem_id_to_demorgan_{n_bits}_map.csv\", index=False)"
   ],
   "metadata": {
    "collapsed": false,
    "ExecuteTime": {
     "end_time": "2025-02-20T13:04:06.752638Z",
     "start_time": "2025-02-20T13:04:05.211493Z"
    }
   },
   "id": "87b960bc11b74efa"
  },
  {
   "cell_type": "code",
   "execution_count": 41,
   "outputs": [],
   "source": [
    "mapping_df = pd.DataFrame.from_dict(mapping_dict, orient=\"index\", columns=[\"new_name\"])\n",
    "mapping_df.index.name = \"old_name\"\n",
    "mapping_df = mapping_df[mapping_df[\"new_name\"] != mapping_df.index]\n",
    "mapping_df[\"pubchem_id\"] = mapping_df[\"new_name\"].apply(lambda x: name_to_pubchem.get(x, x))\n",
    "mapping_df.to_csv(\"mapping_dict.csv\")"
   ],
   "metadata": {
    "collapsed": false,
    "ExecuteTime": {
     "end_time": "2025-02-20T13:07:08.950339Z",
     "start_time": "2025-02-20T13:07:08.937163Z"
    }
   },
   "id": "42100fd5ef0c0772"
  },
  {
   "cell_type": "code",
   "execution_count": 8,
   "outputs": [
    {
     "name": "stdout",
     "output_type": "stream",
     "text": [
      "Processing TOYv1\n"
     ]
    }
   ],
   "source": [
    "# Ohno, : is also an issue in the drug name. This is an issue for CTRPv2, GDSC1, and TOYv1\n",
    "for dataset in [\"CTRPv2\", \"GDSC1\", \"TOYv1\"]:\n",
    "    print(\"Processing\", dataset)\n",
    "    response_file = f\"/Users/judithbernett/PycharmProjects/drp_model_suite/data/{dataset}/{dataset}.csv\"\n",
    "    df = pd.read_csv(response_file, dtype={\"pubchem_id\": str, \"drug_name\": str})\n",
    "    df[\"drug_name\"] = df[\"drug_name\"].apply(lambda x: x.replace(\":\", \"-\"))\n",
    "    df[\"pubchem_id\"] = df[\"pubchem_id\"].apply(lambda x: x.replace(\":\", \"-\"))\n",
    "    new_file = response_file.replace(\".csv\", \"_new.csv\")\n",
    "    df.to_csv(new_file, index=False)\n",
    "    \n",
    "    drug_name_file = f\"/Users/judithbernett/PycharmProjects/drp_model_suite/data/{dataset}/drug_names.csv\"\n",
    "    drug_names = pd.read_csv(drug_name_file, dtype={\"pubchem_id\": str, \"drug_name\": str})\n",
    "    drug_names[\"drug_name\"] = drug_names[\"drug_name\"].apply(lambda x: x.replace(\":\", \"-\"))\n",
    "    drug_names[\"pubchem_id\"] = drug_names[\"pubchem_id\"].apply(lambda x: x.replace(\":\", \"-\"))\n",
    "    new_file = drug_name_file.replace(\".csv\", \"_new.csv\")\n",
    "    drug_names.to_csv(new_file, index=False)\n",
    "    \n",
    "    fingerprint_dir = f\"/Users/judithbernett/PycharmProjects/drp_model_suite/data/{dataset}/drug_fingerprints\"\n",
    "    for n_bits in [64, 128, 256, 512, 1024, 2048]:\n",
    "        fingerprint_file = f\"{fingerprint_dir}/pubchem_id_to_demorgan_{n_bits}_map.csv\"\n",
    "        fingerprints = pd.read_csv(fingerprint_file, dtype=str)\n",
    "        fingerprints.columns = [col.replace(\":\", \"-\") for col in fingerprints.columns]\n",
    "        new_file = fingerprint_file.replace(\".csv\", \"_new.csv\")\n",
    "        fingerprints.to_csv(new_file, index=False)\n",
    "    \n",
    "    dipk_molgnet_dir = f\"/Users/judithbernett/PycharmProjects/drp_model_suite/data/{dataset}/DIPK_features/Drugs\"\n",
    "    all_files = os.listdir(dipk_molgnet_dir)\n",
    "    # if file name contains :, we need to change it\n",
    "    for file in all_files:\n",
    "        if \":\" in file:\n",
    "            new_file = file.replace(\":\", \"-\")\n",
    "            os.rename(f\"{dipk_molgnet_dir}/{file}\", f\"{dipk_molgnet_dir}/{new_file}\")"
   ],
   "metadata": {
    "collapsed": false,
    "ExecuteTime": {
     "end_time": "2025-03-06T14:00:46.080140Z",
     "start_time": "2025-03-06T14:00:45.751365Z"
    }
   },
   "id": "5647e18d96b70a9d"
  },
  {
   "cell_type": "code",
   "execution_count": null,
   "outputs": [],
   "source": [],
   "metadata": {
    "collapsed": false
   },
   "id": "7e03b28b71ac43e3"
  }
 ],
 "metadata": {
  "kernelspec": {
   "display_name": "Python 3",
   "language": "python",
   "name": "python3"
  },
  "language_info": {
   "codemirror_mode": {
    "name": "ipython",
    "version": 2
   },
   "file_extension": ".py",
   "mimetype": "text/x-python",
   "name": "python",
   "nbconvert_exporter": "python",
   "pygments_lexer": "ipython2",
   "version": "2.7.6"
  }
 },
 "nbformat": 4,
 "nbformat_minor": 5
}
